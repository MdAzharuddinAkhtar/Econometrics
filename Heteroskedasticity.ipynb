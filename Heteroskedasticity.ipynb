{
 "cells": [
  {
   "cell_type": "markdown",
   "id": "73b73322-42bb-462b-ba8d-9ff94876fd36",
   "metadata": {},
   "source": [
    "# Heteroskedasticity"
   ]
  },
  {
   "cell_type": "markdown",
   "id": "4cda6e3a-83f9-426a-902c-465244cf85ce",
   "metadata": {},
   "source": [
    "### Introduction"
   ]
  },
  {
   "cell_type": "markdown",
   "id": "01130f05-8982-4fe0-b0a5-616204b00941",
   "metadata": {},
   "source": [
    "Heteroskedasticity is one of the fundamental violations of the classical linear regression model assumptions. As econometricians, understanding its nature, consequences, and remedies is crucial for producing reliable empirical results. This notebook provides a comprehensive treatment of heteroskedasticity from both theoretical and practical perspectives."
   ]
  },
  {
   "cell_type": "markdown",
   "id": "d4d7d34f-0d55-4b82-8eda-39b9b890f8df",
   "metadata": {},
   "source": [
    "### 1. Definition and Mathematical Framework"
   ]
  },
  {
   "cell_type": "markdown",
   "id": "0d68b849-e1d0-488e-8b74-538d28f3e28a",
   "metadata": {},
   "source": [
    "#### 1.1 The Classical Linear Regression Model"
   ]
  },
  {
   "cell_type": "markdown",
   "id": "d239a513-8389-4703-87b5-154e1763d639",
   "metadata": {},
   "source": [
    "Consider the standard linear regression model:\n",
    "\n",
    "$$\n",
    "Y_i = \\beta_0 + \\beta_1 X_{1i} + \\beta_2 X_{2i} + \\dots + \\beta_k X_{ki} + u_i\n",
    "$$\n",
    "\n",
    "where:\n",
    "\n",
    "- $Y_i$ is the dependent variable for observation $i$  \n",
    "- $X_{ji}$ are the independent variables  \n",
    "- $\\beta_j$ are the parameters to be estimated  \n",
    "- $u_i$ is the error term"
   ]
  },
  {
   "cell_type": "markdown",
   "id": "1202d6e2-5602-4ee3-9bf8-2ae968fbd202",
   "metadata": {},
   "source": [
    "#### 1.2 Homoskedasticity Assumption"
   ]
  },
  {
   "cell_type": "markdown",
   "id": "1b133405-4ce5-4d89-a2fb-ef0b31c3f17c",
   "metadata": {},
   "source": [
    "Under the classical assumptions, we require:\n",
    "\n",
    "$$\n",
    "\\text{Var}(u_i \\mid X_i) = \\sigma^2 \\quad \\text{for all } i\n",
    "$$\n",
    "\n",
    "This means the variance of the error term is constant across all observations, conditional on the explanatory variables."
   ]
  },
  {
   "cell_type": "markdown",
   "id": "8b4dfa51-e10a-41aa-a5b9-646664cf2784",
   "metadata": {},
   "source": [
    "#### 1.3 Heteroskedasticity Definition"
   ]
  },
  {
   "cell_type": "markdown",
   "id": "909c0433-a8a2-46c9-9042-99fe98e7f4f2",
   "metadata": {},
   "source": [
    "Heteroskedasticity occurs when:\n",
    "\n",
    "$$\n",
    "\\text{Var}(u_i \\mid X_i) = \\sigma_i^2 \\quad \\text{where } \\sigma_i^2 \\neq \\sigma_j^2 \\text{ for some } i \\neq j\n",
    "$$\n",
    "\n",
    "In other words, the variance of the error term varies across observations."
   ]
  },
  {
   "cell_type": "markdown",
   "id": "74b9bd2c-754d-4492-8182-7e3f239c5478",
   "metadata": {},
   "source": [
    "### 2. Types of Heteroskedasticity"
   ]
  },
  {
   "cell_type": "markdown",
   "id": "67412dc6-607e-435e-b297-c68629830a96",
   "metadata": {},
   "source": [
    "#### 2.1 Pure Heteroskedasticity\n",
    "This occurs when heteroskedasticity is not correlated with any of the explanatory variables in the model. It's relatively rare in economic applications.\n",
    "\n",
    "### 2.2 Conditional Heteroskedasticity\n",
    "\n",
    "This is the most common form in econometrics, where:\n",
    "\n",
    "$$\n",
    "\\text{Var}(u_i \\mid X_i) = f(X_i)\n",
    "$$\n",
    "\n",
    "The variance depends on the values of the explanatory variables.\n",
    "\n",
    "### 2.3 Common Functional Forms\n",
    "\n",
    "Several functional forms are commonly observed:\n",
    "\n",
    "**Linear Form:**\n",
    "\n",
    "$$\n",
    "\\sigma_i^2 = \\alpha_0 + \\alpha_1 X_i\n",
    "$$\n",
    "\n",
    "**Multiplicative Form:**\n",
    "\n",
    "$$\n",
    "\\sigma_i^2 = \\sigma^2 \\exp(\\alpha_0 + \\alpha_1 X_i)\n",
    "$$\n",
    "\n",
    "**Power Form:**\n",
    "\n",
    "$$\n",
    "\\sigma_i^2 = \\sigma^2 X_i^{\\alpha}\n",
    "$$\n"
   ]
  },
  {
   "cell_type": "markdown",
   "id": "2d374897-d479-44a6-b591-767eb6f53a1b",
   "metadata": {},
   "source": [
    "### 3. Sources and Causes of Heteroskedasticity"
   ]
  },
  {
   "cell_type": "markdown",
   "id": "89d85c75-35a3-4dbe-acdd-758b52a43eca",
   "metadata": {},
   "source": [
    "#### 3.1 Scale Effects\n",
    "In cross-sectional data, larger entities often exhibit greater variability. For example:\n",
    "\n",
    "Large firms may have more volatile profits than small firms\n",
    "High-income households may show greater consumption variability\n",
    "\n",
    "#### 3.2 Learning and Improvement\n",
    "\n",
    "Over time, agents may become more efficient, reducing error variance:\n",
    "\n",
    "$$\n",
    "\\sigma_t^2 = \\sigma^2 e^{-\\lambda t}\n",
    "$$\n",
    "\n",
    "#### 3.3 Outliers and Measurement Error\n",
    "\n",
    "Heteroskedasticity can arise from:\n",
    "\n",
    "- Data collection procedures varying across observations  \n",
    "- Different measurement precision for different groups  \n",
    "- Presence of outliers\n",
    "\n",
    "#### 3.4 Model Misspecification\n",
    "\n",
    "Heteroskedasticity can also result from:\n",
    "\n",
    "- Omitted variables  \n",
    "- Incorrect functional form  \n",
    "- Non-linear relationships approximated by linear models\n"
   ]
  },
  {
   "cell_type": "markdown",
   "id": "b13320ae-1460-4bf1-9fb7-b819f92076f5",
   "metadata": {},
   "source": [
    "### 4. Consequences of Heteroskedasticity"
   ]
  },
  {
   "cell_type": "markdown",
   "id": "33ecaad8-dfdd-40a2-bb4f-e8c5ab725425",
   "metadata": {},
   "source": [
    "#### 4.1 OLS Estimator Properties\n",
    "\n",
    "Under heteroskedasticity, the OLS estimator:\n",
    "\n",
    "- **Remains unbiased**:\n",
    "\n",
    "$$\n",
    "\\mathbb{E}[\\hat{\\beta}_{\\text{OLS}} \\mid X] = \\beta\n",
    "$$\n",
    "\n",
    "- **But becomes inefficient**:\n",
    "\n",
    "The variance-covariance matrix becomes:\n",
    "\n",
    "$$\n",
    "\\text{Var}(\\hat{\\beta}_{\\text{OLS}} \\mid X) = (X'X)^{-1} X' \\Omega X (X'X)^{-1}\n",
    "$$\n",
    "\n",
    "where:\n",
    "\n",
    "$$\n",
    "\\Omega = \\text{diag}(\\sigma_1^2, \\sigma_2^2, \\ldots, \\sigma_n^2)\n",
    "$$\n",
    "\n",
    "### 4.2 Standard Error Bias\n",
    "\n",
    "The usual OLS standard errors are biased:\n",
    "\n",
    "$$\n",
    "\\hat{\\text{Var}}(\\hat{\\beta}_{\\text{OLS}}) = s^2 (X'X)^{-1}\n",
    "$$\n",
    "\n",
    "This estimator is inconsistent under heteroskedasticity, leading to:\n",
    "\n",
    "- Invalid *t*-tests and *F*-tests  \n",
    "- Incorrect confidence intervals  \n",
    "- Misleading statistical inference\n",
    "\n",
    "### 4.3 Efficiency Loss\n",
    "\n",
    "OLS is no longer the **Best Linear Unbiased Estimator (BLUE)**.  \n",
    "The **Generalized Least Squares (GLS)** estimator is more efficient:\n",
    "\n",
    "$$\n",
    "\\hat{\\beta}_{\\text{GLS}} = (X' \\Omega^{-1} X)^{-1} X' \\Omega^{-1} Y\n",
    "$$\n",
    "\n",
    "with variance:\n",
    "\n",
    "$$\n",
    "\\text{Var}(\\hat{\\beta}_{\\text{GLS}} \\mid X) = (X' \\Omega^{-1} X)^{-1}\n",
    "$$"
   ]
  },
  {
   "cell_type": "markdown",
   "id": "6d2ce6cc-d21a-48c9-9d91-4fba34399655",
   "metadata": {},
   "source": [
    "### 5. Detection of Heteroskedasticity"
   ]
  },
  {
   "cell_type": "markdown",
   "id": "30eb2a5c-71c9-4b68-8961-442136525533",
   "metadata": {},
   "source": [
    "#### 5.1 Graphical Methods\n",
    "\n",
    "**Residual Plots:**\n",
    "\n",
    "- Plot residuals against fitted values: $\\hat{u}_i$ vs $\\hat{Y}_i$  \n",
    "- Plot residuals against explanatory variables: $\\hat{u}_i$ vs $X_i$  \n",
    "- Look for patterns indicating non-constant variance\n",
    "\n",
    "#### 5.2 Formal Tests\n",
    "\n",
    "##### 5.2.1 Breusch-Pagan Test\n",
    "\n",
    "- **Null Hypothesis:** $H_0: \\sigma_i^2 = \\sigma^2$ (homoskedasticity)\n",
    "\n",
    "**Test Procedure:**\n",
    "\n",
    "1. Run OLS regression and obtain residuals $\\hat{u}_i$\n",
    "2. Compute $\\hat{u}_i^2$\n",
    "3. Regress $\\hat{u}_i^2$ on explanatory variables:\n",
    "\n",
    "$$\n",
    "\\hat{u}_i^2 = \\alpha_0 + \\alpha_1 X_{1i} + \\ldots + \\alpha_k X_{ki} + v_i\n",
    "$$\n",
    "\n",
    "4. Compute test statistic: $LM = nR^2$, where $R^2$ is from step 3  \n",
    "5. Under $H_0$: $LM \\sim \\chi^2(k)$\n",
    "\n",
    "##### 5.2.2 White Test\n",
    "\n",
    "**General Form:**\n",
    "\n",
    "Regress $\\hat{u}_i^2$ on all explanatory variables, their squares, and cross-products:\n",
    "\n",
    "$$\n",
    "\\hat{u}_i^2 = \\alpha_0 + \\sum_{j=1}^k \\alpha_j X_{ji} + \\sum_{j=1}^k \\alpha_{jj} X_{ji}^2 + \\sum_{j<l} \\alpha_{jl} X_{ji}X_{li} + v_i\n",
    "$$\n",
    "\n",
    "**Test Statistic:**\n",
    "\n",
    "$$\n",
    "LM = nR^2 \\sim \\chi^2(\\text{df}) \\quad \\text{under } H_0\n",
    "$$\n",
    "\n",
    "##### 5.2.3 Goldfeld-Quandt Test\n",
    "\n",
    "**Procedure:**\n",
    "\n",
    "1. Order observations by suspected heteroskedastic variable  \n",
    "2. Split sample into two groups (excluding middle observations)  \n",
    "3. Run separate regressions on each group  \n",
    "4. Compute test statistic:\n",
    "\n",
    "$$\n",
    "F = \\frac{SSR_2 / df_2}{SSR_1 / df_1}\n",
    "$$\n"
   ]
  },
  {
   "cell_type": "markdown",
   "id": "ac377b19-56c7-410f-a6b1-7384c3eec2cf",
   "metadata": {},
   "source": [
    "### 6. Remedial Measures"
   ]
  },
  {
   "cell_type": "markdown",
   "id": "1ab54b91-d377-4103-abad-98405b04078f",
   "metadata": {},
   "source": [
    "#### 6.1 Robust Standard Errors\n",
    "\n",
    "**White's Heteroskedasticity-Consistent Estimator**:\n",
    "\n",
    "$$\n",
    "\\hat{\\text{Var}}(\\hat{\\beta}_{HC}) = (X'X)^{-1}\\left(\\sum_{i=1}^n \\hat{u}_i^2 x_i x_i'\\right)(X'X)^{-1}\n",
    "$$\n",
    "\n",
    "This provides consistent standard errors without requiring knowledge of the heteroskedasticity form.\n",
    "\n",
    "#### 6.2 Weighted Least Squares (WLS)\n",
    "\n",
    "When the form of heteroskedasticity is known:\n",
    "\n",
    "$$\n",
    "\\text{Var}(u_i \\mid X_i) = \\sigma^2 h_i\n",
    "$$\n",
    "\n",
    "Transform the model by dividing by $\\sqrt{h_i}$:\n",
    "\n",
    "$$\n",
    "\\frac{Y_i}{\\sqrt{h_i}} = \\frac{\\beta_0}{\\sqrt{h_i}} + \\beta_1 \\frac{X_{1i}}{\\sqrt{h_i}} + \\ldots + \\frac{u_i}{\\sqrt{h_i}}\n",
    "$$\n",
    "\n",
    "Now the transformed error term has constant variance $\\sigma^2$.\n",
    "\n",
    "#### 6.3 Feasible Generalized Least Squares (FGLS)\n",
    "\n",
    "When the heteroskedasticity form is unknown:\n",
    "\n",
    "1. Run OLS and obtain residuals $\\hat{u}_i$  \n",
    "2. Model the variance:  \n",
    "   $$\n",
    "   \\ln(\\hat{u}_i^2) = \\alpha_0 + \\alpha_1 Z_i + v_i\n",
    "   $$\n",
    "3. Predict variances:  \n",
    "   $$\n",
    "   \\hat{\\sigma}_i^2 = \\exp(\\hat{\\alpha}_0 + \\hat{\\alpha}_1 Z_i)\n",
    "   $$\n",
    "4. Apply WLS with weights:  \n",
    "   $$\n",
    "   w_i = \\frac{1}{\\hat{\\sigma}_i}\n",
    "   $$\n",
    "\n",
    "#### 6.4 Box-Cox Transformation\n",
    "\n",
    "For certain types of heteroskedasticity, transform the dependent variable:\n",
    "\n",
    "$$\n",
    "Y_i^{(\\lambda)} = \n",
    "\\begin{cases}\n",
    "\\frac{Y_i^\\lambda - 1}{\\lambda} & \\text{if } \\lambda \\neq 0 \\\\\n",
    "\\ln(Y_i) & \\text{if } \\lambda = 0\n",
    "\\end{cases}\n",
    "$$"
   ]
  },
  {
   "cell_type": "markdown",
   "id": "f80c435b-66bb-4906-a4aa-4a422f0591b8",
   "metadata": {},
   "source": [
    "### 7. Practical Example: Income and Consumption"
   ]
  },
  {
   "cell_type": "markdown",
   "id": "19717c7a-677f-4e11-97ae-82449375ade6",
   "metadata": {},
   "source": [
    "Consider a consumption function where heteroskedasticity might arise due to income differences:\n",
    "\n",
    "$$\n",
    "C_i = \\beta_0 + \\beta_1 Y_i + u_i\n",
    "$$\n",
    "\n",
    "where:\n",
    "- $C_i$ = consumption of household $i$  \n",
    "- $Y_i$ = income of household $i$\n",
    "\n",
    "**Expected Pattern:** Higher-income households may exhibit greater consumption variability.\n",
    "\n",
    "**Variance Function:**  \n",
    "$$\n",
    "\\text{Var}(u_i \\mid Y_i) = \\sigma^2 Y_i\n",
    "$$\n",
    "\n",
    "**WLS Solution:** Use weights:  \n",
    "$$\n",
    "w_i = \\frac{1}{Y_i}\n",
    "$$"
   ]
  },
  {
   "cell_type": "markdown",
   "id": "529a09c5-b190-44fd-8a6b-8fdf249a8e61",
   "metadata": {},
   "source": [
    "### 8. Advanced Topics"
   ]
  },
  {
   "cell_type": "markdown",
   "id": "c8d0ec23-7e80-42ee-b546-e22bf8a29d0b",
   "metadata": {},
   "source": [
    "#### 8.1 Autoregressive Conditional Heteroskedasticity (ARCH)\n",
    "\n",
    "In time series, volatility clustering leads to ARCH effects:\n",
    "\n",
    "$$\n",
    "\\sigma_t^2 = \\alpha_0 + \\alpha_1 u_{t-1}^2 + \\ldots + \\alpha_q u_{t-q}^2\n",
    "$$\n",
    "\n",
    "#### 8.2 Generalized ARCH (GARCH)\n",
    "\n",
    "$$\n",
    "\\sigma_t^2 = \\alpha_0 + \\sum_{i=1}^q \\alpha_i u_{t-i}^2 + \\sum_{j=1}^p \\beta_j \\sigma_{t-j}^2\n",
    "$$\n",
    "\n",
    "#### 8.3 Clustered Standard Errors\n",
    "\n",
    "For panel data or grouped observations:\n",
    "\n",
    "$$\n",
    "\\hat{\\text{Var}}(\\hat{\\beta}_{\\text{cluster}}) = (X'X)^{-1} \\left( \\sum_{g=1}^G X_g' \\hat{u}_g \\hat{u}_g' X_g \\right)(X'X)^{-1}\n",
    "$$\n"
   ]
  },
  {
   "cell_type": "markdown",
   "id": "c5a1aaf3-f304-4a6a-9d6a-6919819bc034",
   "metadata": {},
   "source": [
    "### 9. Conclusion"
   ]
  },
  {
   "cell_type": "markdown",
   "id": "5a36e11a-a1ea-4d2f-b1ae-e2b77e57a0ee",
   "metadata": {},
   "source": [
    "Heteroskedasticity is a pervasive issue in econometric analysis that requires careful attention. While it doesn't bias OLS coefficient estimates, it invalidates standard inference procedures. Modern econometric practice emphasizes:\n",
    "\n",
    "1. **Diagnostic Testing:** Always test for heteroskedasticity  \n",
    "2. **Robust Inference:** Use heteroskedasticity-robust standard errors as default  \n",
    "3. **Efficient Estimation:** Consider GLS/FGLS when appropriate  \n",
    "4. **Model Specification:** Address underlying causes through better modeling\n",
    "\n",
    "Understanding and properly addressing heteroskedasticity is essential for credible empirical research in economics and related fields."
   ]
  },
  {
   "cell_type": "markdown",
   "id": "21652b65-ddc4-4e65-889d-21e6b78bed90",
   "metadata": {},
   "source": [
    "## Emperical Example"
   ]
  },
  {
   "cell_type": "markdown",
   "id": "d5d355db-c0fa-4457-9358-ea5edc973b48",
   "metadata": {},
   "source": [
    "We want to check the presence of Heteroskedasticity when studying the association between food expenditure and income."
   ]
  },
  {
   "cell_type": "code",
   "execution_count": 10,
   "id": "a9b5a8d0-3a88-4e72-89e5-e6a6bb892c43",
   "metadata": {},
   "outputs": [
    {
     "name": "stdout",
     "output_type": "stream",
     "text": [
      "First five rows of the dataset:\n",
      "   food_exp  income\n",
      "0    115.22    3.69\n",
      "1    135.98    4.39\n",
      "2    119.34    4.75\n",
      "3    114.96    6.03\n",
      "4    187.05   12.47\n"
     ]
    },
    {
     "data": {
      "image/png": "[encoded data removed]",
      "text/plain": [
       "<Figure size 1000x600 with 1 Axes>"
      ]
     },
     "metadata": {},
     "output_type": "display_data"
    },
    {
     "name": "stdout",
     "output_type": "stream",
     "text": [
      "\n",
      "Linear Regression Results:\n",
      "                            OLS Regression Results                            \n",
      "==============================================================================\n",
      "Dep. Variable:               food_exp   R-squared:                       0.385\n",
      "Model:                            OLS   Adj. R-squared:                  0.369\n",
      "Method:                 Least Squares   F-statistic:                     23.79\n",
      "Date:                Mon, 16 Jun 2025   Prob (F-statistic):           1.95e-05\n",
      "Time:                        16:12:14   Log-Likelihood:                -235.51\n",
      "No. Observations:                  40   AIC:                             475.0\n",
      "Df Residuals:                      38   BIC:                             478.4\n",
      "Df Model:                           1                                         \n",
      "Covariance Type:            nonrobust                                         \n",
      "==============================================================================\n",
      "                 coef    std err          t      P>|t|      [0.025      0.975]\n",
      "------------------------------------------------------------------------------\n",
      "const         83.4160     43.410      1.922      0.062      -4.463     171.295\n",
      "income        10.2096      2.093      4.877      0.000       5.972      14.447\n",
      "==============================================================================\n",
      "Omnibus:                        0.277   Durbin-Watson:                   1.894\n",
      "Prob(Omnibus):                  0.870   Jarque-Bera (JB):                0.063\n",
      "Skew:                          -0.097   Prob(JB):                        0.969\n",
      "Kurtosis:                       2.989   Cond. No.                         63.7\n",
      "==============================================================================\n",
      "\n",
      "Notes:\n",
      "[1] Standard Errors assume that the covariance matrix of the errors is correctly specified.\n"
     ]
    }
   ],
   "source": [
    "# Import necessary libraries\n",
    "import pandas as pd\n",
    "import matplotlib.pyplot as plt\n",
    "import seaborn as sns\n",
    "import statsmodels.api as sm\n",
    "\n",
    "# Set the style for seaborn plots\n",
    "sns.set(style=\"whitegrid\")\n",
    "\n",
    "# Load the Stata dataset\n",
    "file_path = \"D:/Stata-Tutorial/stata/food.dta\"\n",
    "df = pd.read_stata(file_path)\n",
    "\n",
    "# Display the first few rows of the dataset\n",
    "print(\"First five rows of the dataset:\")\n",
    "print(df[['food_exp', 'income']].head())\n",
    "\n",
    "# Drop any missing values for analysis\n",
    "df_clean = df[['food_exp', 'income']].dropna()\n",
    "\n",
    "# Scatter plot with regression line\n",
    "plt.figure(figsize=(10, 6))\n",
    "sns.regplot(x='income', y='food_exp', data=df_clean, line_kws={\"color\": \"red\"}, scatter_kws={\"alpha\": 0.6})\n",
    "plt.title(\"Scatter Plot of Food Expenditure vs. Income\", fontsize=14)\n",
    "plt.xlabel(\"Income\")\n",
    "plt.ylabel(\"Food Expenditure\")\n",
    "plt.tight_layout()\n",
    "plt.show()\n",
    "\n",
    "# OLS Regression\n",
    "X = sm.add_constant(df_clean['income'])  # add constant (intercept)\n",
    "y = df_clean['food_exp']\n",
    "model = sm.OLS(y, X).fit()\n",
    "\n",
    "# Print regression summary\n",
    "print(\"\\nLinear Regression Results:\")\n",
    "print(model.summary())"
   ]
  },
  {
   "cell_type": "markdown",
   "id": "2694be73-ded6-4117-87ee-934ae4f1fbf6",
   "metadata": {},
   "source": [
    "### Detecting heteroskedasticity"
   ]
  },
  {
   "cell_type": "markdown",
   "id": "a4b5eb35-27c8-43d2-8421-5e54e342dfa8",
   "metadata": {},
   "source": [
    "Heteroskedasticity can be identified using a range of graphical diagnostics and formal statistical tests. This section presents and discusses several commonly employed methods for detecting the presence of heteroskedasticity in regression models."
   ]
  },
  {
   "cell_type": "markdown",
   "id": "ed883881-24d3-4a00-9434-8afea38d0235",
   "metadata": {},
   "source": [
    "#### Residual Plots"
   ]
  },
  {
   "cell_type": "markdown",
   "id": "f346b0ff-17ef-417b-9950-c1a7d97ff995",
   "metadata": {},
   "source": [
    "To detect heteroskedasticity using a residual plot, we plot the residuals from the regression model against the fitted (predicted) values of the dependent variable. If the spread of residuals increases or decreases systematically across the range of fitted values (i.e., a funnel shape), it suggests heteroskedasticity."
   ]
  },
  {
   "cell_type": "code",
   "execution_count": 11,
   "id": "6aa5560b-da7b-464c-8218-563b5f12c605",
   "metadata": {},
   "outputs": [
    {
     "data": {
      "image/png": "[encoded data removed]",
      "text/plain": [
       "<Figure size 1000x600 with 1 Axes>"
      ]
     },
     "metadata": {},
     "output_type": "display_data"
    }
   ],
   "source": [
    "# Predict fitted values and calculate residuals\n",
    "df_clean['fitted'] = model.fittedvalues\n",
    "df_clean['residuals'] = model.resid\n",
    "\n",
    "# Residual plot: residuals vs. fitted values\n",
    "plt.figure(figsize=(10, 6))\n",
    "sns.scatterplot(x='fitted', y='residuals', data=df_clean, alpha=0.6)\n",
    "plt.axhline(0, color='red', linestyle='--')\n",
    "plt.title('Residual Plot for Detection of Heteroskedasticity', fontsize=14)\n",
    "plt.xlabel('Fitted Values (Predicted Food Expenditure)')\n",
    "plt.ylabel('Residuals')\n",
    "plt.tight_layout()\n",
    "plt.show()"
   ]
  },
  {
   "cell_type": "markdown",
   "id": "485cf314-06b5-42ad-afc9-427245a33f9d",
   "metadata": {},
   "source": [
    "The residual plot suggests a tendency for residual magnitudes to increase with higher levels of income, indicating a potential violation of the homoskedasticity assumption."
   ]
  },
  {
   "cell_type": "code",
   "execution_count": 12,
   "id": "d4bcf7c5-1ac6-42e7-b60f-b313d96b1e32",
   "metadata": {},
   "outputs": [
    {
     "data": {
      "image/png": "[encoded data removed]",
      "text/plain": [
       "<Figure size 1000x600 with 1 Axes>"
      ]
     },
     "metadata": {},
     "output_type": "display_data"
    }
   ],
   "source": [
    "import numpy as np\n",
    "import statsmodels.api as sm\n",
    "import matplotlib.pyplot as plt\n",
    "\n",
    "# Step 1: Create absolute residuals\n",
    "df_clean['abs_e'] = np.abs(df_clean['residuals'])\n",
    "\n",
    "# Step 2: Apply LOWESS smoothing\n",
    "lowess = sm.nonparametric.lowess\n",
    "lowess_result = lowess(df_clean['abs_e'], df_clean['income'], frac=0.3)  # frac controls smoothing level\n",
    "\n",
    "# Step 3: Plot the absolute residuals and LOWESS smoother\n",
    "plt.figure(figsize=(10, 6))\n",
    "plt.scatter(df_clean['income'], df_clean['abs_e'], alpha=0.5, label='Absolute Residuals')\n",
    "plt.plot(lowess_result[:, 0], lowess_result[:, 1], color='red', linewidth=2, label='LOWESS Smoothed Line')\n",
    "plt.title('Absolute Residuals vs. Income with LOWESS Smoothing', fontsize=14)\n",
    "plt.xlabel('Income')\n",
    "plt.ylabel('Absolute Residuals')\n",
    "plt.legend()\n",
    "plt.tight_layout()\n",
    "plt.show()"
   ]
  },
  {
   "cell_type": "markdown",
   "id": "e28ba59c-5607-428c-afb8-522d97c3371f",
   "metadata": {},
   "source": [
    "The residual plot reveals a general pattern wherein the magnitude of residuals increases with rising income levels, peaking around an income value of 28. Notably, the residual corresponding to the highest income observation is comparatively small, which contributes to a downward trend in the locally weighted smoothed line at the upper end of the income distribution."
   ]
  },
  {
   "cell_type": "markdown",
   "id": "53b1d004-a90f-4d61-941e-54beda429fd5",
   "metadata": {},
   "source": [
    "### Langrange Multiplier Tests"
   ]
  },
  {
   "cell_type": "markdown",
   "id": "ffaff3e9-e387-4082-ac12-788c149e6eef",
   "metadata": {},
   "source": [
    "Numerous statistical tests have been developed to evaluate the null hypothesis of homoskedasticity. Among these, two widely used and computationally straightforward methods—both based on the Lagrange Multiplier (LM) principle—are particularly notable. The first, commonly known as the Breusch-Pagan test (referred to in some software as the Breusch-Godfrey test), and the second, proposed by White, offer robust diagnostics for detecting heteroskedasticity in regression models."
   ]
  },
  {
   "cell_type": "markdown",
   "id": "6724d5ef-7de9-4f06-a2e1-97fe924f4f34",
   "metadata": {},
   "source": [
    "### Breusch-Pagan Test: Mathematical Hypotheses\n",
    "\n",
    "We start with the standard linear regression model:\n",
    "\n",
    "$$\n",
    "y_i = \\beta_0 + \\beta_1 x_{i1} + \\beta_2 x_{i2} + \\dots + \\beta_k x_{ik} + \\varepsilon_i,\n",
    "$$\n",
    "\n",
    "where the error term \\( \\varepsilon_i \\) is assumed to have constant variance \\( \\sigma^2 \\) under the classical OLS assumptions.\n",
    "\n",
    "The Breusch-Pagan test evaluates whether the **variance of the error term** \\( \\text{Var}(\\varepsilon_i) \\) depends on the explanatory variables:\n",
    "\n",
    "#### **Null Hypothesis (H₀): Homoskedasticity**\n",
    "$$\n",
    "\\text{Var}(\\varepsilon_i) = \\sigma^2\n",
    "$$\n",
    "\n",
    "#### **Alternative Hypothesis (H₁): Heteroskedasticity**\n",
    "$$\n",
    "\\text{Var}(\\varepsilon_i) = \\sigma^2 h(z_i), \\quad \\text{where } h(z_i) = 1 + \\alpha_1 z_{i1} + \\alpha_2 z_{i2} + \\dots + \\alpha_m z_{im}\n",
    "$$\n",
    "\n",
    "That is, under \\( H_1 \\), the error variance is a function of the explanatory variables \\( z_i \\), usually chosen as the regressors from the original model (e.g., `income`).\n",
    "\n",
    "The Breusch-Pagan test proceeds by regressing the squared residuals from the original OLS regression on the explanatory variables, and testing whether the coefficients \\( \\alpha_j \\) are jointly equal to zero:\n",
    "\n",
    "$$\n",
    "H_0: \\alpha_1 = \\alpha_2 = \\dots = \\alpha_m = 0\n",
    "$$\n",
    "\n",
    "A significant test statistic (low p-value) provides evidence against homoskedasticity."
   ]
  },
  {
   "cell_type": "code",
   "execution_count": 13,
   "id": "8fc9dcac-06b3-4e73-9aaf-0f5b310958ad",
   "metadata": {},
   "outputs": [
    {
     "name": "stdout",
     "output_type": "stream",
     "text": [
      "Breusch-Pagan Test Results:\n",
      "LM Statistic: 7.3844\n",
      "p-value (LM): 0.0066\n",
      "F-statistic: 8.6035\n",
      "p-value (F): 0.0057\n",
      "\n",
      "Conclusion: Reject the null hypothesis. Evidence of heteroskedasticity.\n"
     ]
    }
   ],
   "source": [
    "from statsmodels.stats.diagnostic import het_breuschpagan\n",
    "\n",
    "# Perform Breusch-Pagan test\n",
    "# Inputs: residuals, exogenous variables (excluding constant)\n",
    "bp_test = het_breuschpagan(model.resid, model.model.exog)\n",
    "\n",
    "# Unpack test results\n",
    "bp_stat, bp_pval, f_stat, f_pval = bp_test\n",
    "\n",
    "print(\"Breusch-Pagan Test Results:\")\n",
    "print(f\"LM Statistic: {bp_stat:.4f}\")\n",
    "print(f\"p-value (LM): {bp_pval:.4f}\")\n",
    "print(f\"F-statistic: {f_stat:.4f}\")\n",
    "print(f\"p-value (F): {f_pval:.4f}\")\n",
    "\n",
    "# Interpretation\n",
    "if bp_pval < 0.05:\n",
    "    print(\"\\nConclusion: Reject the null hypothesis. Evidence of heteroskedasticity.\")\n",
    "else:\n",
    "    print(\"\\nConclusion: Fail to reject the null hypothesis. No strong evidence of heteroskedasticity.\")"
   ]
  },
  {
   "cell_type": "markdown",
   "id": "9654419e-09dd-4685-a855-75f000d16d4d",
   "metadata": {},
   "source": [
    "#### Goldfeld–Quandt Test: Mathematical Hypotheses\n",
    "\n",
    "The Goldfeld–Quandt (GQ) test is used to detect heteroskedasticity by checking whether the variance of the residuals differs between two subgroups of the data.\n",
    "\n",
    "We assume a standard linear regression model:\n",
    "\n",
    "$$\n",
    "y_i = \\beta_0 + \\beta_1 x_{i1} + \\dots + \\beta_k x_{ik} + \\varepsilon_i,\n",
    "$$\n",
    "\n",
    "with:\n",
    "\n",
    "$$\n",
    "\\text{Var}(\\varepsilon_i) = \\sigma_i^2\n",
    "$$\n",
    "\n",
    "#### **Null Hypothesis (H₀): Homoskedasticity**\n",
    "$$\n",
    "\\sigma_1^2 = \\sigma_2^2\n",
    "$$\n",
    "\n",
    "(Residual variances in both groups are equal.)\n",
    "\n",
    "#### **Alternative Hypothesis (H₁): Heteroskedasticity**\n",
    "$$\n",
    "\\sigma_1^2 \\ne \\sigma_2^2\n",
    "$$\n",
    "\n",
    "(Residual variances differ between groups.)\n",
    "\n",
    "The test involves:\n",
    "- Sorting the data based on an explanatory variable (e.g., `income`)\n",
    "- Splitting the data into two groups (dropping some central observations)\n",
    "- Estimating separate regressions for each group\n",
    "- Comparing the residual variances using an F-statistic:\n",
    "\n",
    "$$\n",
    "F = \\frac{SSR_2 / df_2}{SSR_1 / df_1}\n",
    "$$\n",
    "\n",
    "Where \\( SSR \\) is the sum of squared residuals in each group and \\( df \\) is degrees of freedom.\n",
    "\n",
    "A significantly large or small \\( F \\)-value indicates a violation of the homoskedasticity assumption.\n"
   ]
  },
  {
   "cell_type": "code",
   "execution_count": 14,
   "id": "1e182f4b-5eb4-48a4-a660-9d2cac0280aa",
   "metadata": {},
   "outputs": [
    {
     "name": "stdout",
     "output_type": "stream",
     "text": [
      "Goldfeld–Quandt Test Results:\n",
      "F-statistic: 3.6148\n",
      "p-value: 0.0046\n",
      "\n",
      "Conclusion: Reject the null hypothesis. Evidence of heteroskedasticity.\n"
     ]
    }
   ],
   "source": [
    "from statsmodels.stats.diagnostic import het_goldfeldquandt\n",
    "\n",
    "# Apply Goldfeld–Quandt test (default split variable is the first regressor, i.e., 'income')\n",
    "gq_test = het_goldfeldquandt(df_clean['food_exp'], model.model.exog)\n",
    "\n",
    "# Unpack results\n",
    "f_stat, p_val, _ = gq_test\n",
    "\n",
    "print(\"Goldfeld–Quandt Test Results:\")\n",
    "print(f\"F-statistic: {f_stat:.4f}\")\n",
    "print(f\"p-value: {p_val:.4f}\")\n",
    "\n",
    "# Interpretation\n",
    "if p_val < 0.05:\n",
    "    print(\"\\nConclusion: Reject the null hypothesis. Evidence of heteroskedasticity.\")\n",
    "else:\n",
    "    print(\"\\nConclusion: Fail to reject the null hypothesis. No strong evidence of heteroskedasticity.\")"
   ]
  },
  {
   "cell_type": "markdown",
   "id": "504bff38-00bd-4226-9261-520c13ec8523",
   "metadata": {},
   "source": [
    "### Heteroskedastic - Consistant Standard Error"
   ]
  },
  {
   "cell_type": "markdown",
   "id": "a5c85e65-f368-40e4-9fdb-98b75b654c4c",
   "metadata": {},
   "source": [
    "#### Heteroskedasticity-Consistent Standard Errors (HCSE)\n",
    "\n",
    "In the presence of heteroskedasticity, the usual OLS standard errors are no longer valid for inference, as they rely on the assumption of constant error variance. To address this, we use **Heteroskedasticity-Consistent (HC) Standard Errors**, which correct the variance-covariance matrix of the OLS estimator without changing the coefficient estimates.\n",
    "\n",
    "#### Standard OLS Assumptions:\n",
    "$$\n",
    "\\text{Var}(\\varepsilon_i \\mid X) = \\sigma^2\n",
    "$$\n",
    "\n",
    "#### Under Heteroskedasticity:\n",
    "$$\n",
    "\\text{Var}(\\varepsilon_i \\mid X) = \\sigma_i^2\n",
    "$$\n",
    "\n",
    "The corrected variance-covariance matrix of the OLS estimator \\( $\\hat{\\beta}$ \\) becomes:\n",
    "\n",
    "$$\n",
    "\\widehat{\\text{Var}}(\\hat{\\beta}_{HC}) = (X'X)^{-1} \\left( \\sum_{i=1}^{n} \\hat{u}_i^2 x_i x_i' \\right) (X'X)^{-1}\n",
    "$$\n",
    "\n",
    "Where:\n",
    "- \\( $\\hat{u}_i$ \\) is the OLS residual for observation \\( $i$ \\)\n",
    "- \\( $x_i$ \\) is the row vector of regressors for observation \\( $i$ \\)\n",
    "\n",
    "The most commonly used heteroskedasticity-robust estimators include:\n",
    "- **HC0**: Original White (1980)\n",
    "- **HC1**: Scaled version used in many software packages (e.g., Stata)\n",
    "- **HC2** and **HC3**: Adjusted for leverage\n",
    "\n",
    "In Python (`statsmodels`), we can compute robust standard errors by specifying `cov_type='HC0'`, `HC1`, etc."
   ]
  },
  {
   "cell_type": "code",
   "execution_count": 15,
   "id": "d70ff2ff-fb48-4d9d-bcd3-6e5d4cf7dab8",
   "metadata": {},
   "outputs": [
    {
     "name": "stdout",
     "output_type": "stream",
     "text": [
      "OLS Regression with Heteroskedasticity-Consistent Standard Errors (HC1):\n",
      "                            OLS Regression Results                            \n",
      "==============================================================================\n",
      "Dep. Variable:               food_exp   R-squared:                       0.385\n",
      "Model:                            OLS   Adj. R-squared:                  0.369\n",
      "Method:                 Least Squares   F-statistic:                     31.85\n",
      "Date:                Mon, 16 Jun 2025   Prob (F-statistic):           1.76e-06\n",
      "Time:                        16:12:21   Log-Likelihood:                -235.51\n",
      "No. Observations:                  40   AIC:                             475.0\n",
      "Df Residuals:                      38   BIC:                             478.4\n",
      "Df Model:                           1                                         \n",
      "Covariance Type:                  HC1                                         \n",
      "==============================================================================\n",
      "                 coef    std err          t      P>|t|      [0.025      0.975]\n",
      "------------------------------------------------------------------------------\n",
      "const         83.4160     27.464      3.037      0.004      27.819     139.013\n",
      "income        10.2096      1.809      5.644      0.000       6.547      13.872\n",
      "==============================================================================\n",
      "Omnibus:                        0.277   Durbin-Watson:                   1.894\n",
      "Prob(Omnibus):                  0.870   Jarque-Bera (JB):                0.063\n",
      "Skew:                          -0.097   Prob(JB):                        0.969\n",
      "Kurtosis:                       2.989   Cond. No.                         63.7\n",
      "==============================================================================\n",
      "\n",
      "Notes:\n",
      "[1] Standard Errors are heteroscedasticity robust (HC1)\n"
     ]
    }
   ],
   "source": [
    "# Estimate the model with robust (heteroskedasticity-consistent) standard errors\n",
    "robust_model = model.get_robustcov_results(cov_type='HC1')  # HC1 is similar to what Stata uses\n",
    "\n",
    "# Print robust summary\n",
    "print(\"OLS Regression with Heteroskedasticity-Consistent Standard Errors (HC1):\")\n",
    "print(robust_model.summary())"
   ]
  },
  {
   "cell_type": "markdown",
   "id": "4aa68f2d-0c46-4894-9660-08fe8303252e",
   "metadata": {},
   "source": [
    "The use of HC standard errors allows us to make valid statistical inferences even when the assumption of homoskedasticity is violated. While the coefficient estimates remain unchanged from standard OLS, the standard errors are adjusted, which can affect hypothesis tests and confidence intervals."
   ]
  },
  {
   "cell_type": "markdown",
   "id": "1a789511-0bd9-4435-ad21-acc466b5f947",
   "metadata": {},
   "source": [
    "#### Comparison of Heteroskedasticity-Consistent Standard Errors (HC0–HC3)\n",
    "\n",
    "In empirical applications, especially when heteroskedasticity is present, different robust estimators are available to correct the standard errors of OLS estimates:\n",
    "\n",
    "- **HC0**: White’s original estimator, uses unscaled squared residuals.\n",
    "- **HC1**: A finite sample correction to HC0, used by default in Stata.\n",
    "- **HC2**: Adjusts for leverage by dividing residuals by \\($1 - h_i$\\), where \\( $h_i$ \\) is the leverage.\n",
    "- **HC3**: Similar to HC2 but squares the leverage adjustment, providing more conservative estimates, especially in small samples.\n",
    "\n",
    "Each method has its strengths depending on sample size, leverage, and model fit.\n"
   ]
  },
  {
   "cell_type": "markdown",
   "id": "e54d6d54-36fb-42d4-bbec-02ef0d468562",
   "metadata": {},
   "source": [
    "### 1. The Generalised Least Square Estimator"
   ]
  },
  {
   "cell_type": "markdown",
   "id": "564ad2b8-106b-40e0-9b87-27b7e081255e",
   "metadata": {},
   "source": [
    "The Generalized Least Squares (GLS) method is a generalization of the Ordinary Least Squares (OLS) estimator. It is used when the classical assumption of spherical errors—i.e., that the error terms are **independent and identically distributed (i.i.d.) with constant variance**—is violated.\n",
    "\n",
    "#### Motivation\n",
    "\n",
    "In the classical linear regression model:\n",
    "\n",
    "$$\n",
    "\\mathbf{y} = \\mathbf{X} \\boldsymbol{\\beta} + \\boldsymbol{\\varepsilon}, \\quad \\text{where } \\mathbb{E}[\\boldsymbol{\\varepsilon}] = \\mathbf{0}, \\quad \\text{Var}(\\boldsymbol{\\varepsilon}) = \\sigma^2 \\mathbf{I}_n,\n",
    "$$\n",
    "\n",
    "the **OLS estimator** is:\n",
    "\n",
    "$$\n",
    "\\hat{\\boldsymbol{\\beta}}_{\\text{OLS}} = (\\mathbf{X}^\\top \\mathbf{X})^{-1} \\mathbf{X}^\\top \\mathbf{y}.\n",
    "$$\n",
    "\n",
    "However, if the error variance–covariance matrix is not spherical, i.e.,\n",
    "\n",
    "$$\n",
    "\\text{Var}(\\boldsymbol{\\varepsilon}) = \\boldsymbol{\\Omega} \\ne \\sigma^2 \\mathbf{I}_n,\n",
    "$$\n",
    "\n",
    "where \\( $\\boldsymbol{\\Omega}$ \\) is a **known**, **positive-definite**, and **symmetric** matrix, then OLS is no longer **efficient** (though still unbiased).\n",
    "\n",
    "#### Generalized Least Squares (GLS)\n",
    "\n",
    "To restore efficiency, we transform the model using a matrix \\( $\\mathbf{P}$ \\) such that:\n",
    "\n",
    "$$\n",
    "\\mathbf{P}^\\top \\mathbf{P} = \\boldsymbol{\\Omega}^{-1}.\n",
    "$$\n",
    "\n",
    "Then the transformed model becomes:\n",
    "\n",
    "$$\n",
    "\\mathbf{P} \\mathbf{y} = \\mathbf{P} \\mathbf{X} \\boldsymbol{\\beta} + \\mathbf{P} \\boldsymbol{\\varepsilon}.\n",
    "$$\n",
    "\n",
    "Let:\n",
    "\n",
    "- \\( $\\tilde{\\mathbf{y}} = \\mathbf{P} \\mathbf{y}$ \\),\n",
    "- \\( $\\tilde{\\mathbf{X}} = \\mathbf{P} \\mathbf{X}$ \\),\n",
    "- \\( $\\tilde{\\boldsymbol{\\varepsilon}} = \\mathbf{P} \\boldsymbol{\\varepsilon}$ \\),\n",
    "\n",
    "Then:\n",
    "\n",
    "$$\n",
    "\\tilde{\\mathbf{y}} = \\tilde{\\mathbf{X}} \\boldsymbol{\\beta} + \\tilde{\\boldsymbol{\\varepsilon}}, \\quad \\text{where } \\text{Var}(\\tilde{\\boldsymbol{\\varepsilon}}) = \\mathbf{I}_n.\n",
    "$$\n",
    "\n",
    "Now, applying OLS to the transformed model yields the **GLS estimator**:\n",
    "\n",
    "$$\n",
    "\\hat{\\boldsymbol{\\beta}}_{\\text{GLS}} = (\\mathbf{X}^\\top \\boldsymbol{\\Omega}^{-1} \\mathbf{X})^{-1} \\mathbf{X}^\\top \\boldsymbol{\\Omega}^{-1} \\mathbf{y}.\n",
    "$$\n",
    "\n",
    "This estimator is **BLUE** (Best Linear Unbiased Estimator) under general conditions, provided that \\( \\boldsymbol{\\Omega} \\) is known.\n",
    "\n",
    "#### Properties of GLS\n",
    "\n",
    "- **Unbiased:** \\( $\\mathbb{E}[\\hat{\\boldsymbol{\\beta}}_{\\text{GLS}}] = \\boldsymbol{\\beta}$ \\)\n",
    "- **Efficient:** Has the smallest variance among all linear unbiased estimators.\n",
    "- **Covariance matrix:**  \n",
    "  $$\n",
    "  \\text{Var}(\\hat{\\boldsymbol{\\beta}}_{\\text{GLS}}) = (\\mathbf{X}^\\top \\boldsymbol{\\Omega}^{-1} \\mathbf{X})^{-1}\n",
    "  $$\n",
    "\n",
    "#### Feasible Generalized Least Squares (FGLS)\n",
    "\n",
    "In most practical applications, the true \\( $\\boldsymbol{\\Omega}$ \\) is **unknown**, and hence we estimate it using a consistent estimator \\( $\\hat{\\boldsymbol{\\Omega}}$ \\), yielding the **Feasible GLS (FGLS)** estimator:\n",
    "\n",
    "$$\n",
    "\\hat{\\boldsymbol{\\beta}}_{\\text{FGLS}} = (\\mathbf{X}^\\top \\hat{\\boldsymbol{\\Omega}}^{-1} \\mathbf{X})^{-1} \\mathbf{X}^\\top \\hat{\\boldsymbol{\\Omega}}^{-1} \\mathbf{y}.\n",
    "$$\n",
    "\n",
    "FGLS is consistent and asymptotically efficient under general conditions.\n",
    "\n",
    "#### When to Use GLS?\n",
    "\n",
    "GLS is particularly useful when:\n",
    "- The error variance is **heteroskedastic** (as in cross-sectional data),\n",
    "- The errors are **autocorrelated** (as in time series data),\n",
    "- There is **group-wise heteroskedasticity** (as in panel data).\n",
    "\n",
    "#### Summary\n",
    "\n",
    "| Estimator | Assumptions on Errors | Efficiency | Comments |\n",
    "|----------|------------------------|------------|----------|\n",
    "| OLS | \\( $\\text{Var}(\\varepsilon_i) = \\sigma^2$ \\) | Inefficient under heteroskedasticity | Easy to compute |\n",
    "| GLS | \\( $\\text{Var}(\\boldsymbol{\\varepsilon}) = \\boldsymbol{\\Omega}$ \\), known | Efficient | Requires known \\( $\\boldsymbol{\\Omega}$ \\) |\n",
    "| FGLS | \\( $\\boldsymbol{\\Omega}$ \\) estimated from data | Asymptotically efficient | Common in applied work |"
   ]
  },
  {
   "cell_type": "code",
   "execution_count": 16,
   "id": "ead1a7dc-f2fb-4a04-9c6b-dbc2d7158b28",
   "metadata": {},
   "outputs": [
    {
     "name": "stdout",
     "output_type": "stream",
     "text": [
      "                            WLS Regression Results                            \n",
      "==============================================================================\n",
      "Dep. Variable:                   wage   R-squared:                       0.272\n",
      "Model:                            WLS   Adj. R-squared:                  0.269\n",
      "Method:                 Least Squares   F-statistic:                     123.7\n",
      "Date:                Mon, 16 Jun 2025   Prob (F-statistic):           3.99e-68\n",
      "Time:                        16:12:26   Log-Likelihood:                -3077.6\n",
      "No. Observations:                1000   AIC:                             6163.\n",
      "Df Residuals:                     996   BIC:                             6183.\n",
      "Df Model:                           3                                         \n",
      "Covariance Type:            nonrobust                                         \n",
      "==============================================================================\n",
      "                 coef    std err          t      P>|t|      [0.025      0.975]\n",
      "------------------------------------------------------------------------------\n",
      "const         -9.3984      1.020     -9.217      0.000     -11.399      -7.397\n",
      "educ           1.1957      0.069     17.454      0.000       1.061       1.330\n",
      "exper          0.1322      0.015      9.087      0.000       0.104       0.161\n",
      "metro          1.5388      0.346      4.444      0.000       0.859       2.218\n",
      "==============================================================================\n",
      "Omnibus:                      380.375   Durbin-Watson:                   0.511\n",
      "Prob(Omnibus):                  0.000   Jarque-Bera (JB):             2158.076\n",
      "Skew:                           1.648   Prob(JB):                         0.00\n",
      "Kurtosis:                       9.398   Cond. No.                         157.\n",
      "==============================================================================\n",
      "\n",
      "Notes:\n",
      "[1] Standard Errors assume that the covariance matrix of the errors is correctly specified.\n"
     ]
    }
   ],
   "source": [
    "import pandas as pd\n",
    "import statsmodels.api as sm\n",
    "from statsmodels.regression.linear_model import GLS\n",
    "from statsmodels.stats.api import het_breuschpagan\n",
    "import numpy as np\n",
    "\n",
    "# Load the dataset\n",
    "data_path = \"D:/Stata-Tutorial/stata/food.dta\"\n",
    "df = pd.read_stata(data_path)\n",
    "\n",
    "# Clean and define dependent and independent variables\n",
    "df = df[[\"food_exp\", \"income\"]].dropna()\n",
    "X = sm.add_constant(df[\"income\"])\n",
    "y = df[\"food_exp\"]\n",
    "\n",
    "# First, run an OLS regression to obtain residuals\n",
    "ols_model = sm.OLS(y, X).fit()\n",
    "\n",
    "# Obtain squared residuals from the OLS model\n",
    "resid_sq = ols_model.resid ** 2\n",
    "\n",
    "# Estimate a variance function: here we assume Var(ε_i) = σ² * h(x_i), where h(x_i) ∝ income²\n",
    "# Regress log(resid^2) on log(income) to model heteroskedasticity\n",
    "df[\"log_resid_sq\"] = np.log(resid_sq)\n",
    "df[\"log_income\"] = np.log(df[\"income\"])\n",
    "var_model = sm.OLS(df[\"log_resid_sq\"], sm.add_constant(df[\"log_income\"])).fit()\n",
    "\n",
    "# Predict log-variance and exponentiate to get variance estimates\n",
    "df[\"log_var_hat\"] = var_model.predict()\n",
    "df[\"var_hat\"] = np.exp(df[\"log_var_hat\"])\n",
    "\n",
    "# Construct the Omega_hat matrix (diagonal of variances)\n",
    "omega_hat_inv = np.diag(1 / df[\"var_hat\"].values)\n",
    "\n",
    "# Generalized Least Squares (GLS) Estimation\n",
    "X_np = X.values\n",
    "y_np = y.values.reshape(-1, 1)\n",
    "\n",
    "# GLS formula: (X'Ω⁻¹X)^-1 X'Ω⁻¹y\n",
    "Xt_Oinv = X_np.T @ omega_hat_inv\n",
    "gls_beta = np.linalg.inv(Xt_Oinv @ X_np) @ Xt_Oinv @ y_np\n",
    "\n",
    "gls_beta = gls_beta.flatten()\n",
    "gls_beta\n",
    "\n",
    "print(gls_model.summary())"
   ]
  },
  {
   "cell_type": "markdown",
   "id": "3d87c5f6-6af5-47b2-ad58-3a7945cefad4",
   "metadata": {},
   "source": [
    "### 2. Generalised Least Square for Grouped Data"
   ]
  },
  {
   "cell_type": "code",
   "execution_count": 17,
   "id": "9ae316ef-6297-4ba6-a628-68ef78eb0d7d",
   "metadata": {},
   "outputs": [
    {
     "name": "stdout",
     "output_type": "stream",
     "text": [
      "                            WLS Regression Results                            \n",
      "==============================================================================\n",
      "Dep. Variable:                   wage   R-squared:                       0.272\n",
      "Model:                            WLS   Adj. R-squared:                  0.269\n",
      "Method:                 Least Squares   F-statistic:                     123.7\n",
      "Date:                Mon, 16 Jun 2025   Prob (F-statistic):           3.99e-68\n",
      "Time:                        16:12:27   Log-Likelihood:                -3077.6\n",
      "No. Observations:                1000   AIC:                             6163.\n",
      "Df Residuals:                     996   BIC:                             6183.\n",
      "Df Model:                           3                                         \n",
      "Covariance Type:            nonrobust                                         \n",
      "==============================================================================\n",
      "                 coef    std err          t      P>|t|      [0.025      0.975]\n",
      "------------------------------------------------------------------------------\n",
      "const         -9.3984      1.020     -9.217      0.000     -11.399      -7.397\n",
      "educ           1.1957      0.069     17.454      0.000       1.061       1.330\n",
      "exper          0.1322      0.015      9.087      0.000       0.104       0.161\n",
      "metro          1.5388      0.346      4.444      0.000       0.859       2.218\n",
      "==============================================================================\n",
      "Omnibus:                      380.375   Durbin-Watson:                   0.511\n",
      "Prob(Omnibus):                  0.000   Jarque-Bera (JB):             2158.076\n",
      "Skew:                           1.648   Prob(JB):                         0.00\n",
      "Kurtosis:                       9.398   Cond. No.                         157.\n",
      "==============================================================================\n",
      "\n",
      "Notes:\n",
      "[1] Standard Errors assume that the covariance matrix of the errors is correctly specified.\n"
     ]
    }
   ],
   "source": [
    "import numpy as np\n",
    "import statsmodels.api as sm\n",
    "\n",
    "# Load the dataset\n",
    "data_path = \"D:/Stata-Tutorial/stata/cps2.dta\"\n",
    "df = pd.read_stata(data_path)\n",
    "\n",
    "# 1. Generate 'rural' variable\n",
    "df[\"rural\"] = 1 - df[\"metro\"]\n",
    "\n",
    "# 2. Drop missing values in key variables\n",
    "df_clean = df[[\"wage\", \"educ\", \"exper\", \"metro\", \"rural\"]].dropna()\n",
    "\n",
    "# 3. Estimate OLS separately for rural\n",
    "rural_df = df_clean[df_clean[\"rural\"] == 1]\n",
    "X_rural = sm.add_constant(rural_df[[\"educ\", \"exper\"]])\n",
    "y_rural = rural_df[\"wage\"]\n",
    "rural_model = sm.OLS(y_rural, X_rural).fit()\n",
    "sr = rural_model.mse_resid  # Mean squared error for rural\n",
    "\n",
    "# 4. Estimate OLS separately for metro\n",
    "metro_df = df_clean[df_clean[\"metro\"] == 1]\n",
    "X_metro = sm.add_constant(metro_df[[\"educ\", \"exper\"]])\n",
    "y_metro = metro_df[\"wage\"]\n",
    "metro_model = sm.OLS(y_metro, X_metro).fit()\n",
    "sm_ = metro_model.mse_resid  # Mean squared error for metro\n",
    "\n",
    "# 5. Construct group-specific weights\n",
    "df_clean[\"wtall\"] = sr * df_clean[\"rural\"] + sm_ * df_clean[\"metro\"]\n",
    "df_clean[\"inv_wt\"] = 1 / df_clean[\"wtall\"]\n",
    "\n",
    "# 6. Estimate Generalized Least Squares (GLS) regression\n",
    "X_full = sm.add_constant(df_clean[[\"educ\", \"exper\", \"metro\"]])\n",
    "y_full = df_clean[\"wage\"]\n",
    "gls_model = sm.WLS(y_full, X_full, weights=df_clean[\"inv_wt\"]).fit()\n",
    "\n",
    "# 7. Print full GLS summary\n",
    "print(gls_model.summary())"
   ]
  },
  {
   "cell_type": "markdown",
   "id": "86dbbdbd-efe4-4dc1-a1e4-458ce8845dcf",
   "metadata": {},
   "source": [
    "### 3. Feasible Generalised Least Square – a more general case"
   ]
  },
  {
   "cell_type": "markdown",
   "id": "c513657c-82c7-470a-a036-5df1773a45d3",
   "metadata": {},
   "source": [
    "In classical linear regression, the Ordinary Least Squares (OLS) estimator assumes that the error terms have constant variance and are uncorrelated:\n",
    "\n",
    "$$\n",
    "\\mathbb{E}[\\varepsilon] = 0, \\quad \\text{Var}(\\varepsilon) = \\sigma^2 I\n",
    "$$\n",
    "\n",
    "However, in many applications, especially with cross-sectional or time-series data, this assumption is violated. The presence of **heteroskedasticity** (non-constant variance) or **autocorrelation** (non-zero off-diagonal elements in the error variance-covariance matrix) renders the OLS estimator inefficient, though still unbiased.\n",
    "\n",
    "Let the true linear model be:\n",
    "\n",
    "$$\n",
    "\\mathbf{y} = X\\beta + \\varepsilon, \\quad \\text{with } \\mathbb{E}[\\varepsilon] = 0, \\quad \\text{and } \\text{Var}(\\varepsilon) = \\Omega\n",
    "$$\n",
    "\n",
    "where:\n",
    "- \\($\\mathbf{y}$\\) is an \\($n \\times 1$\\) vector of observations,\n",
    "- \\($X$\\) is an \\($n \\times k$\\) matrix of explanatory variables,\n",
    "- \\($\\beta$\\) is a \\($k \\times 1$\\) vector of coefficients,\n",
    "- \\($\\Omega$\\) is an \\($n \\times n$\\) **positive definite** covariance matrix (not necessarily scalar multiple of identity).\n",
    "\n",
    "#### GLS Estimator (When \\($\\Omega$\\) is known)\n",
    "\n",
    "The **Generalized Least Squares (GLS)** estimator is given by:\n",
    "\n",
    "$$\n",
    "\\hat{\\beta}_{GLS} = (X^\\top \\Omega^{-1} X)^{-1} X^\\top \\Omega^{-1} \\mathbf{y}\n",
    "$$\n",
    "\n",
    "This estimator is **Best Linear Unbiased Estimator (BLUE)** under the generalized Gauss-Markov theorem.\n",
    "\n",
    "#### Feasible GLS (FGLS)\n",
    "\n",
    "In practice, \\($\\Omega$\\) is rarely known. Instead, we estimate \\($\\Omega$\\) using the residuals from an OLS regression. This gives rise to the **Feasible GLS (FGLS)** procedure:\n",
    "\n",
    "#### Step 1: Estimate \\($\\beta_{OLS}$\\)\n",
    "\n",
    "$$\n",
    "\\hat{\\beta}_{OLS} = (X^\\top X)^{-1} X^\\top \\mathbf{y}\n",
    "$$\n",
    "\n",
    "#### Step 2: Obtain OLS residuals\n",
    "\n",
    "$$\n",
    "\\hat{\\varepsilon} = \\mathbf{y} - X\\hat{\\beta}_{OLS}\n",
    "$$\n",
    "\n",
    "#### Step 3: Use \\($\\hat{\\varepsilon}$\\) to estimate \\($\\hat{\\Omega}$\\)\n",
    "\n",
    "For example, in the case of heteroskedasticity where:\n",
    "\n",
    "$$\n",
    "\\text{Var}(\\varepsilon_i) = \\sigma_i^2,\n",
    "$$\n",
    "\n",
    "a common approach is to model the variance as a function of observable variables, say:\n",
    "\n",
    "$$\n",
    "\\log(\\hat{\\varepsilon}_i^2) = z_i^\\top \\gamma + u_i\n",
    "$$\n",
    "\n",
    "and estimate \\($\\hat{\\sigma}_i^2 = \\exp(z_i^\\top \\hat{\\gamma}$)\\), forming a diagonal matrix \\($\\hat{\\Omega} = \\text{diag}(\\hat{\\sigma}_1^2, \\dots, \\hat{\\sigma}_n^2$)\\).\n",
    "\n",
    "#### Step 4: Estimate FGLS\n",
    "\n",
    "$$\n",
    "\\hat{\\beta}_{FGLS} = (X^\\top \\hat{\\Omega}^{-1} X)^{-1} X^\\top \\hat{\\Omega}^{-1} \\mathbf{y}\n",
    "$$\n",
    "\n",
    "This estimator is asymptotically more efficient than OLS and consistent even in the presence of heteroskedasticity.\n",
    "\n",
    "#### Use Cases\n",
    "\n",
    "- Heteroskedasticity correction (cross-sectional data)\n",
    "- Serial correlation correction (time series data)\n",
    "- Clustered standard errors (panel data)\n",
    "\n",
    "FGLS is widely used when OLS fails to meet the Gauss-Markov assumptions, and robust estimation of the variance-covariance matrix is necessary for efficient inference.\n"
   ]
  },
  {
   "cell_type": "code",
   "execution_count": 18,
   "id": "570247fe-19b3-4527-90fa-8b68d4705276",
   "metadata": {},
   "outputs": [
    {
     "name": "stdout",
     "output_type": "stream",
     "text": [
      "                            WLS Regression Results                            \n",
      "==============================================================================\n",
      "Dep. Variable:               food_exp   R-squared:                       0.719\n",
      "Model:                            WLS   Adj. R-squared:                  0.712\n",
      "Method:                 Least Squares   F-statistic:                     97.31\n",
      "Date:                Mon, 16 Jun 2025   Prob (F-statistic):           4.98e-12\n",
      "Time:                        16:12:28   Log-Likelihood:                -227.08\n",
      "No. Observations:                  40   AIC:                             458.2\n",
      "Df Residuals:                      38   BIC:                             461.5\n",
      "Df Model:                           1                                         \n",
      "Covariance Type:            nonrobust                                         \n",
      "==============================================================================\n",
      "                 coef    std err          t      P>|t|      [0.025      0.975]\n",
      "------------------------------------------------------------------------------\n",
      "const         75.1458     13.601      5.525      0.000      47.613     102.679\n",
      "income        10.7937      1.094      9.865      0.000       8.579      13.009\n",
      "==============================================================================\n",
      "Omnibus:                        2.153   Durbin-Watson:                   1.929\n",
      "Prob(Omnibus):                  0.341   Jarque-Bera (JB):                1.301\n",
      "Skew:                          -0.108   Prob(JB):                        0.522\n",
      "Kurtosis:                       2.143   Cond. No.                         21.9\n",
      "==============================================================================\n",
      "\n",
      "Notes:\n",
      "[1] Standard Errors assume that the covariance matrix of the errors is correctly specified.\n"
     ]
    }
   ],
   "source": [
    "import numpy as np\n",
    "import statsmodels.api as sm\n",
    "\n",
    "# Load the dataset\n",
    "data_path = \"D:/Stata-Tutorial/stata/food.dta\"\n",
    "df = pd.read_stata(data_path)\n",
    "\n",
    "# Assuming `df` is already defined and contains 'food_exp' and 'income'\n",
    "df = df[[\"food_exp\", \"income\"]].dropna()\n",
    "\n",
    "# Step 1: OLS regression\n",
    "X = sm.add_constant(df[\"income\"])\n",
    "y = df[\"food_exp\"]\n",
    "ols_model = sm.OLS(y, X).fit()\n",
    "\n",
    "# Step 2: Get squared residuals\n",
    "df[\"resid_sq\"] = ols_model.resid ** 2\n",
    "\n",
    "# Step 3: Estimate log(residual^2) on income to model heteroskedasticity\n",
    "log_resid_model = sm.OLS(np.log(df[\"resid_sq\"]), X).fit()\n",
    "df[\"log_var_hat\"] = log_resid_model.predict(X)\n",
    "df[\"var_hat\"] = np.exp(df[\"log_var_hat\"])\n",
    "\n",
    "# Step 4: Calculate weights (inverse of variance estimates)\n",
    "df[\"weights\"] = 1 / df[\"var_hat\"]\n",
    "\n",
    "# Step 5: Run FGLS (Weighted Least Squares)\n",
    "fgls_model = sm.WLS(df[\"food_exp\"], X, weights=df[\"weights\"]).fit()\n",
    "\n",
    "# Print full FGLS regression result\n",
    "print(fgls_model.summary())"
   ]
  },
  {
   "cell_type": "markdown",
   "id": "cc3d2636-723e-4135-b0a4-bdab2d7ab33c",
   "metadata": {},
   "source": [
    "### Heteroskedasticity in the Linear Probability Model"
   ]
  },
  {
   "cell_type": "code",
   "execution_count": 19,
   "id": "389da64d-2627-4876-b14c-093237b45938",
   "metadata": {},
   "outputs": [
    {
     "name": "stdout",
     "output_type": "stream",
     "text": [
      "                            OLS Regression Results                            \n",
      "==============================================================================\n",
      "Dep. Variable:                   coke   R-squared:                       0.120\n",
      "Model:                            OLS   Adj. R-squared:                  0.118\n",
      "Method:                 Least Squares   F-statistic:                     57.27\n",
      "Date:                Mon, 16 Jun 2025   Prob (F-statistic):           1.77e-34\n",
      "Time:                        16:12:29   Log-Likelihood:                -748.15\n",
      "No. Observations:                1140   AIC:                             1504.\n",
      "Df Residuals:                    1136   BIC:                             1524.\n",
      "Df Model:                           3                                         \n",
      "Covariance Type:                  HC0                                         \n",
      "==============================================================================\n",
      "                 coef    std err          z      P>|z|      [0.025      0.975]\n",
      "------------------------------------------------------------------------------\n",
      "const          0.8902      0.065     13.656      0.000       0.762       1.018\n",
      "pratio        -0.4009      0.060     -6.651      0.000      -0.519      -0.283\n",
      "disp_coke      0.0772      0.034      2.278      0.023       0.011       0.144\n",
      "disp_pepsi    -0.1657      0.034     -4.829      0.000      -0.233      -0.098\n",
      "==============================================================================\n",
      "Omnibus:                     8314.612   Durbin-Watson:                   1.206\n",
      "Prob(Omnibus):                  0.000   Jarque-Bera (JB):              112.194\n",
      "Skew:                           0.190   Prob(JB):                     4.34e-25\n",
      "Kurtosis:                       1.511   Cond. No.                         10.4\n",
      "==============================================================================\n",
      "\n",
      "Notes:\n",
      "[1] Standard Errors are heteroscedasticity robust (HC0)\n",
      "[('LM Statistic', np.float64(25.817424319003635)), ('LM p-value', np.float64(0.0005429300816462207)), ('F-Statistic', np.float64(3.7471832928086086)), ('F p-value', np.float64(0.0005061363807507918))]\n"
     ]
    }
   ],
   "source": [
    "import pandas as pd\n",
    "import statsmodels.api as sm\n",
    "from statsmodels.stats.diagnostic import het_white\n",
    "from statsmodels.compat import lzip\n",
    "\n",
    "# Step 1: Load dataset\n",
    "data_path = \"D:/Stata-Tutorial/stata/coke.dta\"\n",
    "df = pd.read_stata(data_path)\n",
    "\n",
    "# Step 2: Prepare variables\n",
    "X = df[[\"pratio\", \"disp_coke\", \"disp_pepsi\"]]\n",
    "X = sm.add_constant(X)\n",
    "y = df[\"coke\"]\n",
    "\n",
    "# Step 3: Run OLS with robust standard errors (White's correction)\n",
    "model_robust = sm.OLS(y, X).fit(cov_type='HC0')\n",
    "\n",
    "# Step 4: Print regression result with robust SEs\n",
    "print(model_robust.summary())\n",
    "\n",
    "# Step 5: White test for heteroskedasticity\n",
    "white_test = het_white(model_robust.resid, X)\n",
    "labels = ['LM Statistic', 'LM p-value', 'F-Statistic', 'F p-value']\n",
    "print(lzip(labels, white_test))"
   ]
  },
  {
   "cell_type": "markdown",
   "id": "3741a801-90dc-4791-b406-558292de7d0c",
   "metadata": {},
   "source": [
    "`cov_type='HC0'`is White’s heteroskedasticity-consistent covariance estimator.\n",
    "\n",
    "The $het\\_white()$ test returns both the Lagrange Multiplier (LM) statistic and the F-statistic version of the White test."
   ]
  },
  {
   "cell_type": "code",
   "execution_count": null,
   "id": "16beec6f-fde9-4389-a940-9025e4e99e80",
   "metadata": {},
   "outputs": [],
   "source": []
  },
  {
   "cell_type": "code",
   "execution_count": null,
   "id": "e6a7795d-c896-4c8c-8f65-a5a5ffb3a876",
   "metadata": {},
   "outputs": [],
   "source": []
  }
 ],
 "metadata": {
  "kernelspec": {
   "display_name": "Python 3 (ipykernel)",
   "language": "python",
   "name": "python3"
  },
  "language_info": {
   "codemirror_mode": {
    "name": "ipython",
    "version": 3
   },
   "file_extension": ".py",
   "mimetype": "text/x-python",
   "name": "python",
   "nbconvert_exporter": "python",
   "pygments_lexer": "ipython3",
   "version": "3.13.1"
  }
 },
 "nbformat": 4,
 "nbformat_minor": 5
}
