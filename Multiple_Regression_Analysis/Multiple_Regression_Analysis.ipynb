{
 "cells": [
  {
   "cell_type": "markdown",
   "id": "22e41eaa-8d4d-459c-976d-76569a3f948c",
   "metadata": {},
   "source": [
    "# Multiple Regression Analysis"
   ]
  },
  {
   "cell_type": "code",
   "execution_count": 18,
   "id": "97bceb8d-b807-42f3-9e1b-65f469d596f2",
   "metadata": {},
   "outputs": [],
   "source": [
    "# Import necessary libraries\n",
    "import numpy as np\n",
    "import pandas as pd\n",
    "import matplotlib.pyplot as plt\n",
    "from sklearn.model_selection import train_test_split\n",
    "from sklearn.linear_model import LinearRegression\n",
    "from sklearn.metrics import mean_squared_error, r2_score"
   ]
  },
  {
   "cell_type": "markdown",
   "id": "ba68a2ad-75b1-4825-b6bf-f1db00d09990",
   "metadata": {},
   "source": [
    "# Multiple Regression: Econometric Framework\n",
    "\n",
    "In econometrics, multiple linear regression is used to model the relationship between a dependent variable and multiple independent variables.\n",
    "\n",
    "### Model Specification\n",
    "\n",
    "Let:\n",
    "\n",
    "- $Y$: dependent variable (e.g., income)\n",
    "- $X_1, X_2, \\ldots, X_k$: independent variables (e.g., education, experience, age)\n",
    "- $\\varepsilon$: error term\n",
    "\n",
    "### The Multiple Linear Regression Model\n",
    "\n",
    "$$\n",
    "Y_i = \\beta_0 + \\beta_1 X_{1i} + \\beta_2 X_{2i} + \\cdots + \\beta_k X_{ki} + \\varepsilon_i\n",
    "$$\n",
    "\n",
    "Where:\n",
    "\n",
    "- $\\beta_0$: intercept\n",
    "- $\\beta_j$: partial effect of $X_j$ on $Y$, holding all other variables constant\n",
    "\n",
    "\n",
    "### Interpretation of Coefficients\n",
    "\n",
    "- $\\beta_j$ represents the **marginal effect** of a one-unit change in $X_j$ on $Y$, **ceteris paribus**.\n",
    "- $\\varepsilon_i$ captures all other unobserved influences on $Y_i$.\n",
    "\n",
    "\n",
    "### Gauss-Markov Assumptions (Classical Linear Regression Assumptions)\n",
    "\n",
    "1. Linearity in parameters  \n",
    "2. Random sampling  \n",
    "3. No perfect multicollinearity  \n",
    "4. Zero conditional mean: $E[\\varepsilon_i \\mid X_1, X_2, ..., X_k] = 0$  \n",
    "5. Homoskedasticity: $Var(\\varepsilon_i \\mid X) = \\sigma^2$\n",
    "\n",
    "Under these assumptions, the OLS estimators are **BLUE**: Best Linear Unbiased Estimators.\n"
   ]
  },
  {
   "cell_type": "markdown",
   "id": "b3e19c00-820d-4734-b223-0c672226a59d",
   "metadata": {},
   "source": [
    "### Simulation"
   ]
  },
  {
   "cell_type": "code",
   "execution_count": 19,
   "id": "246d4e8c-bc6c-485d-ac18-ad8e71c44db4",
   "metadata": {},
   "outputs": [
    {
     "name": "stdout",
     "output_type": "stream",
     "text": [
      "                            OLS Regression Results                            \n",
      "==============================================================================\n",
      "Dep. Variable:                 income   R-squared:                       0.379\n",
      "Model:                            OLS   Adj. R-squared:                  0.328\n",
      "Method:                 Least Squares   F-statistic:                     7.331\n",
      "Date:                Wed, 16 Apr 2025   Prob (F-statistic):           0.000587\n",
      "Time:                        15:53:02   Log-Likelihood:                -423.09\n",
      "No. Observations:                  40   AIC:                             854.2\n",
      "Df Residuals:                      36   BIC:                             860.9\n",
      "Df Model:                           3                                         \n",
      "Covariance Type:            nonrobust                                         \n",
      "==============================================================================\n",
      "                 coef    std err          t      P>|t|      [0.025      0.975]\n",
      "------------------------------------------------------------------------------\n",
      "const       2.606e+04    1.4e+04      1.856      0.072   -2415.294    5.45e+04\n",
      "education   3099.3546    855.157      3.624      0.001    1365.016    4833.693\n",
      "experience  1009.8788    339.714      2.973      0.005     320.907    1698.851\n",
      "age          276.7844    186.958      1.480      0.147    -102.385     655.953\n",
      "==============================================================================\n",
      "Omnibus:                        1.014   Durbin-Watson:                   2.781\n",
      "Prob(Omnibus):                  0.602   Jarque-Bera (JB):                0.996\n",
      "Skew:                           0.230   Prob(JB):                        0.608\n",
      "Kurtosis:                       2.378   Cond. No.                         353.\n",
      "==============================================================================\n",
      "\n",
      "Notes:\n",
      "[1] Standard Errors assume that the covariance matrix of the errors is correctly specified.\n"
     ]
    }
   ],
   "source": [
    "import numpy as np\n",
    "import pandas as pd\n",
    "import statsmodels.api as sm\n",
    "\n",
    "# Set seed for reproducibility\n",
    "np.random.seed(42)\n",
    "\n",
    "# Simulate 40 observations\n",
    "n = 40\n",
    "\n",
    "# Independent variables\n",
    "education = np.random.normal(14, 2, n)        # Mean years of education\n",
    "experience = np.random.normal(10, 5, n)       # Years of work experience\n",
    "age = np.random.normal(35, 10, n)             # Age in years\n",
    "\n",
    "# Construct the dependent variable (income)\n",
    "# Income = 20000 + 3000*education + 1000*experience + 500*age + noise\n",
    "noise = np.random.normal(0, 10000, n)\n",
    "income = 20000 + 3000*education + 1000*experience + 500*age + noise\n",
    "\n",
    "# Create DataFrame\n",
    "data = pd.DataFrame({\n",
    "    'income': income,\n",
    "    'education': education,\n",
    "    'experience': experience,\n",
    "    'age': age\n",
    "})\n",
    "\n",
    "# Define X and y\n",
    "X = data[['education', 'experience', 'age']]\n",
    "X = sm.add_constant(X)  # Adds intercept term\n",
    "y = data['income']\n",
    "\n",
    "# Fit OLS model\n",
    "model = sm.OLS(y, X).fit()\n",
    "\n",
    "# Show summary\n",
    "print(model.summary())"
   ]
  },
  {
   "cell_type": "markdown",
   "id": "5a6ff50e-7ddf-4c13-8b9f-f4d33affd459",
   "metadata": {},
   "source": [
    "## Example 1"
   ]
  },
  {
   "cell_type": "markdown",
   "id": "a7f3f3fa-eb25-4678-9ce4-3be651327b84",
   "metadata": {},
   "source": [
    "The effect of price and advertisement on sales revenue"
   ]
  },
  {
   "cell_type": "code",
   "execution_count": 4,
   "id": "2badbdcf-eaee-4bf1-98db-b3d8c3753c50",
   "metadata": {},
   "outputs": [
    {
     "name": "stdout",
     "output_type": "stream",
     "text": [
      "   sales  price  advert\n",
      "0   73.2   5.69     1.3\n",
      "1   71.8   6.49     2.9\n",
      "2   62.4   5.63     0.8\n",
      "3   67.4   6.22     0.7\n",
      "4   89.3   5.02     1.5\n"
     ]
    }
   ],
   "source": [
    "import pandas as pd\n",
    "# Load the Stata file\n",
    "file_path = r\"D:\\Stata-Tutorial\\stata\\andy.dta\"\n",
    "data = pd.read_stata(file_path)\n",
    "\n",
    "# Display first few rows\n",
    "print(data.head())"
   ]
  },
  {
   "cell_type": "code",
   "execution_count": 3,
   "id": "12c47d34-4b7e-49fa-ab88-7dba5e88dbd3",
   "metadata": {},
   "outputs": [
    {
     "name": "stdout",
     "output_type": "stream",
     "text": [
      "   sales  price  advert\n",
      "0   73.2   5.69     1.3\n",
      "1   71.8   6.49     2.9\n",
      "2   62.4   5.63     0.8\n",
      "3   67.4   6.22     0.7\n",
      "4   89.3   5.02     1.5\n"
     ]
    },
    {
     "data": {
      "image/png": "[encoded data removed]",
      "text/plain": [
       "<Figure size 700x400 with 1 Axes>"
      ]
     },
     "metadata": {},
     "output_type": "display_data"
    },
    {
     "data": {
      "image/png": "[encoded data removed]",
      "text/plain": [
       "<Figure size 700x400 with 1 Axes>"
      ]
     },
     "metadata": {},
     "output_type": "display_data"
    },
    {
     "data": {
      "image/png": "[encoded data removed]",
      "text/plain": [
       "<Figure size 700x400 with 1 Axes>"
      ]
     },
     "metadata": {},
     "output_type": "display_data"
    }
   ],
   "source": [
    "import pandas as pd\n",
    "import seaborn as sns\n",
    "import matplotlib.pyplot as plt\n",
    "import statsmodels.api as sm\n",
    "\n",
    "# Load the Stata file\n",
    "file_path = r\"D:\\Stata-Tutorial\\stata\\andy.dta\"\n",
    "data = pd.read_stata(file_path)\n",
    "\n",
    "# Display first few rows\n",
    "print(data.head())\n",
    "\n",
    "\n",
    "# Set visual style\n",
    "sns.set(style=\"whitegrid\")\n",
    "\n",
    "# Plot histograms\n",
    "variables = ['sales', 'price', 'advert']\n",
    "\n",
    "for var in variables:\n",
    "    plt.figure(figsize=(7, 4))\n",
    "    sns.histplot(data[var], kde=True, color='skyblue')\n",
    "    plt.title(f\"Distribution of {var}\")\n",
    "    plt.xlabel(var)\n",
    "    plt.ylabel(\"Frequency\")\n",
    "    plt.show()"
   ]
  },
  {
   "cell_type": "code",
   "execution_count": 22,
   "id": "54747e23-61f0-4f1f-8803-3486cd41dd3f",
   "metadata": {},
   "outputs": [
    {
     "data": {
      "image/png": "[encoded data removed]",
      "text/plain": [
       "<Figure size 600x400 with 2 Axes>"
      ]
     },
     "metadata": {},
     "output_type": "display_data"
    }
   ],
   "source": [
    "# Compute correlation matrix\n",
    "corr_matrix = data[['sales', 'price', 'advert']].corr()\n",
    "\n",
    "# Plot heatmap\n",
    "plt.figure(figsize=(6, 4))\n",
    "sns.heatmap(corr_matrix, annot=True, cmap='coolwarm', fmt=\".2f\")\n",
    "plt.title(\"Correlation Heatmap\")\n",
    "plt.show()\n"
   ]
  },
  {
   "cell_type": "code",
   "execution_count": 23,
   "id": "2681179c-5550-42b4-8014-bdd07a733c4e",
   "metadata": {},
   "outputs": [
    {
     "name": "stdout",
     "output_type": "stream",
     "text": [
      "           sales      price     advert\n",
      "count  75.000000  75.000000  75.000000\n",
      "mean   77.374667   5.687200   1.844000\n",
      "std     6.488537   0.518432   0.831677\n",
      "min    62.400000   4.830000   0.500000\n",
      "25%    73.200000   5.220000   1.100000\n",
      "50%    76.500000   5.690000   1.800000\n",
      "75%    82.200000   6.210000   2.700000\n",
      "max    91.200000   6.490000   3.100000\n"
     ]
    }
   ],
   "source": [
    "# Descriptive summary\n",
    "print(data[['sales', 'price', 'advert']].describe())"
   ]
  },
  {
   "cell_type": "code",
   "execution_count": 24,
   "id": "18d7428c-3a86-4853-ba3d-9e7c003e0f7b",
   "metadata": {},
   "outputs": [
    {
     "name": "stdout",
     "output_type": "stream",
     "text": [
      "                            OLS Regression Results                            \n",
      "==============================================================================\n",
      "Dep. Variable:                  sales   R-squared:                       0.448\n",
      "Model:                            OLS   Adj. R-squared:                  0.433\n",
      "Method:                 Least Squares   F-statistic:                     29.25\n",
      "Date:                Wed, 16 Apr 2025   Prob (F-statistic):           5.04e-10\n",
      "Time:                        15:53:12   Log-Likelihood:                -223.87\n",
      "No. Observations:                  75   AIC:                             453.7\n",
      "Df Residuals:                      72   BIC:                             460.7\n",
      "Df Model:                           2                                         \n",
      "Covariance Type:            nonrobust                                         \n",
      "==============================================================================\n",
      "                 coef    std err          t      P>|t|      [0.025      0.975]\n",
      "------------------------------------------------------------------------------\n",
      "const        118.9136      6.352     18.722      0.000     106.252     131.575\n",
      "price         -7.9079      1.096     -7.215      0.000     -10.093      -5.723\n",
      "advert         1.8626      0.683      2.726      0.008       0.501       3.225\n",
      "==============================================================================\n",
      "Omnibus:                        0.535   Durbin-Watson:                   2.183\n",
      "Prob(Omnibus):                  0.765   Jarque-Bera (JB):                0.159\n",
      "Skew:                          -0.072   Prob(JB):                        0.924\n",
      "Kurtosis:                       3.174   Cond. No.                         69.5\n",
      "==============================================================================\n",
      "\n",
      "Notes:\n",
      "[1] Standard Errors assume that the covariance matrix of the errors is correctly specified.\n"
     ]
    }
   ],
   "source": [
    "# Define dependent and independent variables\n",
    "X = data[['price', 'advert']]\n",
    "X = sm.add_constant(X)  # add intercept\n",
    "y = data['sales']\n",
    "\n",
    "# Fit OLS model\n",
    "model = sm.OLS(y, X).fit()\n",
    "\n",
    "# Show model summary\n",
    "print(model.summary())\n"
   ]
  },
  {
   "cell_type": "markdown",
   "id": "8b51eff9-be03-4718-8831-2820c8ecbb2c",
   "metadata": {},
   "source": [
    "#### Prediction"
   ]
  },
  {
   "cell_type": "markdown",
   "id": "705a5c87-f93a-4fd5-abeb-494af8c44224",
   "metadata": {},
   "source": [
    "Suppose I wants to predict sales revenue for a price of $5.50$ and an advertising expenditure of $1,200$."
   ]
  },
  {
   "cell_type": "code",
   "execution_count": 25,
   "id": "96fef908-112d-4d92-a284-333fb3abfca7",
   "metadata": {},
   "outputs": [
    {
     "name": "stdout",
     "output_type": "stream",
     "text": [
      "Predicted sales revenue: $2,310.52\n"
     ]
    }
   ],
   "source": [
    "# Manually create the correct DataFrame with all required columns\n",
    "new_data = pd.DataFrame({\n",
    "    'const': [1],         # Intercept term\n",
    "    'price': [5.50],\n",
    "    'advert': [1200]\n",
    "})\n",
    "\n",
    "# Predict sales\n",
    "predicted_sales = model.predict(new_data)\n",
    "\n",
    "# Print the prediction\n",
    "print(f\"Predicted sales revenue: ${predicted_sales[0]:,.2f}\")\n"
   ]
  },
  {
   "cell_type": "markdown",
   "id": "dcd484c1-8859-46a8-a813-030349878eab",
   "metadata": {},
   "source": [
    "Now, I plans to increase advertising expenditure by $800$ and drop the price by $40$ cents. The change in expected sales is"
   ]
  },
  {
   "cell_type": "code",
   "execution_count": 26,
   "id": "269e76b9-4e81-4b15-ad17-8339155d18d0",
   "metadata": {},
   "outputs": [
    {
     "name": "stdout",
     "output_type": "stream",
     "text": [
      "Change in expected sales: $1,493.23\n"
     ]
    }
   ],
   "source": [
    "# Get the coefficients from the model\n",
    "beta_price = model.params['price']\n",
    "beta_advert = model.params['advert']\n",
    "\n",
    "# Define the changes\n",
    "delta_price = -0.40\n",
    "delta_advert = 800\n",
    "\n",
    "# Compute the change in expected sales\n",
    "delta_sales = beta_price * delta_price + beta_advert * delta_advert\n",
    "\n",
    "# Print the result\n",
    "print(f\"Change in expected sales: ${delta_sales:,.2f}\")\n"
   ]
  },
  {
   "cell_type": "markdown",
   "id": "7585962b-c076-4125-8ded-7ecb2f18aa46",
   "metadata": {},
   "source": [
    "### Example 2: Second order Polynomial Multiple Regression"
   ]
  },
  {
   "cell_type": "code",
   "execution_count": 27,
   "id": "84224a79-36fb-46bf-b11f-b74a7304eef5",
   "metadata": {},
   "outputs": [
    {
     "name": "stdout",
     "output_type": "stream",
     "text": [
      "                            OLS Regression Results                            \n",
      "==============================================================================\n",
      "Dep. Variable:                  sales   R-squared:                       0.508\n",
      "Model:                            OLS   Adj. R-squared:                  0.487\n",
      "Method:                 Least Squares   F-statistic:                     24.46\n",
      "Date:                Wed, 16 Apr 2025   Prob (F-statistic):           5.60e-11\n",
      "Time:                        15:53:16   Log-Likelihood:                -219.55\n",
      "No. Observations:                  75   AIC:                             447.1\n",
      "Df Residuals:                      71   BIC:                             456.4\n",
      "Df Model:                           3                                         \n",
      "Covariance Type:            nonrobust                                         \n",
      "==================================================================================\n",
      "                     coef    std err          t      P>|t|      [0.025      0.975]\n",
      "----------------------------------------------------------------------------------\n",
      "const            109.7190      6.799     16.137      0.000      96.162     123.276\n",
      "price             -7.6400      1.046     -7.304      0.000      -9.726      -5.554\n",
      "advert            12.1512      3.556      3.417      0.001       5.060      19.242\n",
      "advert_squared    -2.7680      0.941     -2.943      0.004      -4.644      -0.892\n",
      "==============================================================================\n",
      "Omnibus:                        1.004   Durbin-Watson:                   2.043\n",
      "Prob(Omnibus):                  0.605   Jarque-Bera (JB):                0.455\n",
      "Skew:                          -0.088   Prob(JB):                        0.797\n",
      "Kurtosis:                       3.339   Cond. No.                         101.\n",
      "==============================================================================\n",
      "\n",
      "Notes:\n",
      "[1] Standard Errors assume that the covariance matrix of the errors is correctly specified.\n"
     ]
    }
   ],
   "source": [
    "# Create a second-order polynomial for 'advert' (advert and advert^2)\n",
    "data['advert_squared'] = data['advert'] ** 2\n",
    "\n",
    "# Define the independent variables (including the polynomial term for 'advert')\n",
    "X = data[['price', 'advert', 'advert_squared']]\n",
    "X = sm.add_constant(X)  # add intercept\n",
    "y = data['sales']\n",
    "\n",
    "# Run the OLS regression\n",
    "model = sm.OLS(y, X).fit()\n",
    "\n",
    "# Display the summary of the regression\n",
    "print(model.summary())"
   ]
  },
  {
   "cell_type": "markdown",
   "id": "658b8ebe-2020-4b65-bc1b-60a30ad8e37a",
   "metadata": {},
   "source": [
    "#### Example 3: Interaction Term"
   ]
  },
  {
   "cell_type": "code",
   "execution_count": 28,
   "id": "7b8d8aec-1a8f-478b-8efd-2a4934024b09",
   "metadata": {},
   "outputs": [
    {
     "name": "stdout",
     "output_type": "stream",
     "text": [
      "   pizza  female  hs  college  grad  income  age\n",
      "0    109       1   0        0     0    19.5   25\n",
      "1      0       1   0        0     0    39.0   45\n",
      "2      0       1   0        0     0    15.6   20\n",
      "3    108       1   0        0     0    26.0   28\n",
      "4    220       1   1        0     0    19.5   25\n"
     ]
    }
   ],
   "source": [
    "# Load the dataset\n",
    "pizza_path = r\"D:\\Stata-Tutorial\\stata\\pizza4.dta\"\n",
    "df = pd.read_stata(pizza_path)\n",
    "\n",
    "# View first few rows\n",
    "print(df.head())"
   ]
  },
  {
   "cell_type": "code",
   "execution_count": 29,
   "id": "7c12080f-c28f-457e-a27e-7fadade18260",
   "metadata": {},
   "outputs": [],
   "source": [
    "# Create interaction term\n",
    "df['age_income'] = df['age'] * df['income']"
   ]
  },
  {
   "cell_type": "code",
   "execution_count": 30,
   "id": "d6fe317d-a7c7-4738-9111-d007882c6458",
   "metadata": {},
   "outputs": [
    {
     "name": "stdout",
     "output_type": "stream",
     "text": [
      "                            OLS Regression Results                            \n",
      "==============================================================================\n",
      "Dep. Variable:                  pizza   R-squared:                       0.387\n",
      "Model:                            OLS   Adj. R-squared:                  0.336\n",
      "Method:                 Least Squares   F-statistic:                     7.586\n",
      "Date:                Wed, 16 Apr 2025   Prob (F-statistic):           0.000468\n",
      "Time:                        17:21:10   Log-Likelihood:                -248.42\n",
      "No. Observations:                  40   AIC:                             504.8\n",
      "Df Residuals:                      36   BIC:                             511.6\n",
      "Df Model:                           3                                         \n",
      "Covariance Type:            nonrobust                                         \n",
      "==============================================================================\n",
      "                 coef    std err          t      P>|t|      [0.025      0.975]\n",
      "------------------------------------------------------------------------------\n",
      "const        161.4654    120.663      1.338      0.189     -83.251     406.182\n",
      "age           -2.9774      3.352     -0.888      0.380      -9.776       3.821\n",
      "income         6.9799      2.823      2.473      0.018       1.255      12.705\n",
      "age_income    -0.1232      0.067     -1.847      0.073      -0.259       0.012\n",
      "==============================================================================\n",
      "Omnibus:                        2.754   Durbin-Watson:                   0.932\n",
      "Prob(Omnibus):                  0.252   Jarque-Bera (JB):                1.426\n",
      "Skew:                          -0.041   Prob(JB):                        0.490\n",
      "Kurtosis:                       2.079   Cond. No.                     1.89e+04\n",
      "==============================================================================\n",
      "\n",
      "Notes:\n",
      "[1] Standard Errors assume that the covariance matrix of the errors is correctly specified.\n",
      "[2] The condition number is large, 1.89e+04. This might indicate that there are\n",
      "strong multicollinearity or other numerical problems.\n"
     ]
    }
   ],
   "source": [
    "# Define independent variables\n",
    "X = df[['age', 'income', 'age_income']]\n",
    "X = sm.add_constant(X)  # add constant/intercept\n",
    "y = df['pizza']\n",
    "\n",
    "# Run the regression\n",
    "model = sm.OLS(y, X).fit()\n",
    "\n",
    "# Show regression summary\n",
    "print(model.summary())"
   ]
  },
  {
   "cell_type": "code",
   "execution_count": 47,
   "id": "b233d02d-4491-4c71-80a2-66ad6a0a587d",
   "metadata": {},
   "outputs": [
    {
     "name": "stdout",
     "output_type": "stream",
     "text": [
      "   wage  educ  exper  female  black  white  midwest  south  west\n",
      "0  2.03    13      2       1      0      1        0      1     0\n",
      "1  2.07    12      7       0      0      1        1      0     0\n",
      "2  2.12    12     35       0      0      1        0      1     0\n",
      "3  2.54    16     20       1      0      1        0      1     0\n",
      "4  2.68    12     24       1      0      1        0      1     0\n"
     ]
    }
   ],
   "source": [
    "import pandas as pd\n",
    "import statsmodels.api as sm\n",
    "import seaborn as sns\n",
    "import matplotlib.pyplot as plt\n",
    "\n",
    "# Load the dataset\n",
    "pizza_path = r\"D:\\Stata-Tutorial\\stata\\cps_small.dta\"\n",
    "df = pd.read_stata(pizza_path)\n",
    "\n",
    "# View first few rows\n",
    "print(df.head())"
   ]
  },
  {
   "cell_type": "code",
   "execution_count": 49,
   "id": "b95af331-6480-481f-a5f9-0fc705e1846c",
   "metadata": {},
   "outputs": [],
   "source": [
    "# Drop rows with missing or zero wages to avoid log(0) error\n",
    "df = df[df['wage'] > 0]\n",
    "\n",
    "# Create log of wage\n",
    "df['lwage'] = np.log(df['wage'])\n",
    "\n",
    "df['educ_exper'] = df['educ'] * df['exper']"
   ]
  },
  {
   "cell_type": "code",
   "execution_count": 50,
   "id": "161d0232-cfb0-4af4-a32f-1f638b2016a3",
   "metadata": {},
   "outputs": [
    {
     "name": "stdout",
     "output_type": "stream",
     "text": [
      "                            OLS Regression Results                            \n",
      "==============================================================================\n",
      "Dep. Variable:                  lwage   R-squared:                       0.280\n",
      "Model:                            OLS   Adj. R-squared:                  0.278\n",
      "Method:                 Least Squares   F-statistic:                     129.0\n",
      "Date:                Wed, 16 Apr 2025   Prob (F-statistic):           1.30e-70\n",
      "Time:                        17:32:56   Log-Likelihood:                -661.52\n",
      "No. Observations:                1000   AIC:                             1331.\n",
      "Df Residuals:                     996   BIC:                             1351.\n",
      "Df Model:                           3                                         \n",
      "Covariance Type:            nonrobust                                         \n",
      "==============================================================================\n",
      "                 coef    std err          t      P>|t|      [0.025      0.975]\n",
      "------------------------------------------------------------------------------\n",
      "const          0.4205      0.091      4.633      0.000       0.242       0.599\n",
      "educ           0.1140      0.006     18.603      0.000       0.102       0.126\n",
      "exper          0.0124      0.001      9.208      0.000       0.010       0.015\n",
      "educ_exper    -0.0003      0.000     -1.442      0.150      -0.001       0.000\n",
      "==============================================================================\n",
      "Omnibus:                        0.124   Durbin-Watson:                   0.534\n",
      "Prob(Omnibus):                  0.940   Jarque-Bera (JB):                0.195\n",
      "Skew:                           0.011   Prob(JB):                        0.907\n",
      "Kurtosis:                       2.935   Cond. No.                         448.\n",
      "==============================================================================\n",
      "\n",
      "Notes:\n",
      "[1] Standard Errors assume that the covariance matrix of the errors is correctly specified.\n"
     ]
    }
   ],
   "source": [
    "# Define independent and dependent variables\n",
    "X = df[['educ', 'exper', 'educ_exper']]\n",
    "X = sm.add_constant(X)\n",
    "y = df['lwage']\n",
    "\n",
    "# Run the OLS regression\n",
    "model = sm.OLS(y, X).fit()\n",
    "\n",
    "# Print summary\n",
    "print(model.summary())"
   ]
  },
  {
   "cell_type": "markdown",
   "id": "f47f2a79-0d69-47ea-aad2-cd546cda61c9",
   "metadata": {},
   "source": [
    "#### Model Specification: Unrestricted and Restricted Model"
   ]
  },
  {
   "cell_type": "code",
   "execution_count": 2,
   "id": "0ca811fb-8319-4ab0-b5d0-0689be3ca5fa",
   "metadata": {},
   "outputs": [],
   "source": [
    "import pandas as pd\n",
    "import statsmodels.api as sm\n",
    "\n",
    "# Load data\n",
    "file_path = r\"D:\\Stata-Tutorial\\stata\\andy.dta\"\n",
    "df = pd.read_stata(file_path)\n",
    "\n",
    "# Create squared term\n",
    "df['advert2'] = df['advert'] ** 2\n",
    "\n",
    "# -----------------------\n",
    "# Unrestricted model: sales ~ price + advert + advert^2\n",
    "# -----------------------\n",
    "X_unres = df[['price', 'advert', 'advert2']]\n",
    "X_unres = sm.add_constant(X_unres)\n",
    "y = df['sales']\n",
    "model_unres = sm.OLS(y, X_unres).fit()\n",
    "\n",
    "# -----------------------\n",
    "# Restricted model: sales ~ advert + advert^2\n",
    "# -----------------------\n",
    "X_res = df[['advert', 'advert2']]\n",
    "X_res = sm.add_constant(X_res)\n",
    "model_res = sm.OLS(y, X_res).fit()"
   ]
  },
  {
   "cell_type": "markdown",
   "id": "64e3a26f-e540-4496-82fe-5a135964f99a",
   "metadata": {},
   "source": [
    "F-Statistics"
   ]
  },
  {
   "cell_type": "code",
   "execution_count": 3,
   "id": "0668c500-338a-462b-9f70-892e39f7c1ef",
   "metadata": {},
   "outputs": [
    {
     "name": "stdout",
     "output_type": "stream",
     "text": [
      "F-statistic: 53.3549\n",
      "P-value: 0.0000\n"
     ]
    }
   ],
   "source": [
    "# Perform F-test manually\n",
    "RSS_r = model_res.ssr    # Residual sum of squares for restricted\n",
    "RSS_ur = model_unres.ssr # Residual sum of squares for unrestricted\n",
    "\n",
    "q = X_unres.shape[1] - X_res.shape[1]  # Number of restrictions (number of dropped variables)\n",
    "n = X_unres.shape[0]                   # Number of observations\n",
    "k_ur = X_unres.shape[1]                # Number of parameters in unrestricted model (including intercept)\n",
    "\n",
    "F_stat = ((RSS_r - RSS_ur) / q) / (RSS_ur / (n - k_ur))\n",
    "\n",
    "from scipy.stats import f\n",
    "p_value = 1 - f.cdf(F_stat, q, n - k_ur)\n",
    "\n",
    "print(f\"F-statistic: {F_stat:.4f}\")\n",
    "print(f\"P-value: {p_value:.4f}\")"
   ]
  },
  {
   "cell_type": "markdown",
   "id": "2db51dbd-78ba-4d72-9cc5-4defcd62d568",
   "metadata": {},
   "source": [
    "If $p-value < 0.05$, reject the null hypothesis ⇒ price adds significant value to the model."
   ]
  },
  {
   "cell_type": "markdown",
   "id": "a24e312d-fe0e-4753-a4ad-9fa5f2a7b1e8",
   "metadata": {},
   "source": [
    "If $p-value ≥ 0.05$, fail to reject ⇒ price does not significantly improve the model over just advert and $advert^2$."
   ]
  },
  {
   "cell_type": "markdown",
   "id": "35d77bd4-f279-464d-a80a-ced6dd429925",
   "metadata": {},
   "source": [
    "#### Adjusted-$R^2$ Akaike Information Criterion (AIC), and Schwarz Criterion / Bayesian Information Criterion (BIC)"
   ]
  },
  {
   "cell_type": "markdown",
   "id": "aed222fb-1627-424a-8d35-a00b69bc5a84",
   "metadata": {},
   "source": [
    "When comparing regression models, especially in a multiple regression framework, it's essential to balance **goodness of fit** with **model complexity**. Below are three widely used criteria:\n",
    "\n",
    "### 1. Adjusted-$R^2$\n",
    "\n",
    "Adjusted-$R^2$ modifies the regular $R^2$ by accounting for the number of predictors in the model. Unlike $R^2$, which always increases when more variables are added, Adjusted-$R^2$ can **decrease** if added variables do not improve the model significantly.\n",
    "\n",
    "$$\\bar{R}^2 = 1 - \\left( \\frac{(1 - R^2)(n - 1)}{n - k - 1} \\right)$$\n",
    "\n",
    "Where:\n",
    "- $\\bar{R}^2$ = Adjusted R-squared  \n",
    "- $R^2$ = Coefficient of determination  \n",
    "- $n$ = Sample size  \n",
    "- $k$ = Number of predictors (excluding intercept)\n",
    "\n",
    " Use when comparing **nested models**. Higher $\\bar{R}^2$ indicates better model performance while adjusting for complexity.\n",
    "\n",
    "\n",
    "### 2. Akaike Information Criterion (AIC)\n",
    "\n",
    "AIC provides a trade-off between model fit and complexity. It penalizes models with more parameters.\n",
    "\n",
    "$$\\text{AIC} = n \\cdot \\ln\\left( \\frac{\\text{RSS}}{n} \\right) + 2k$$\n",
    "\n",
    "Where:\n",
    "- $\\text{RSS}$ = Residual Sum of Squares  \n",
    "- $k$ = Number of estimated parameters (including intercept)  \n",
    "- $n$ = Number of observations\n",
    "\n",
    ">  **Lower AIC values** are preferred.  \n",
    ">  Use when comparing **non-nested models**.\n",
    "\n",
    "\n",
    "\n",
    "### 3. Schwarz Criterion / Bayesian Information Criterion (BIC)\n",
    "\n",
    "Also known as BIC, it penalizes model complexity more heavily than AIC, particularly for large sample sizes.\n",
    "\n",
    "$$\\text{BIC} = n \\cdot \\ln\\left( \\frac{\\text{RSS}}{n} \\right) + k \\cdot \\ln(n)$$\n",
    "\n",
    "Where:\n",
    "- Same symbols as above\n",
    "\n",
    ">  **Lower BIC is better**. BIC tends to favor simpler models more than AIC.\n",
    "\n",
    "\n",
    "\n",
    "###  Summary Table\n",
    "\n",
    "| Criterion   | Penalizes Complexity | Preferred Value | Use Case                    |\n",
    "|-------------|----------------------|------------------|-----------------------------|\n",
    "| Adjusted-$R^2$ | Yes                  | Higher           | Nested model comparison     |\n",
    "| AIC         | Yes (mildly)         | Lower            | Non-nested model comparison |\n",
    "| BIC         | Yes (strongly)       | Lower            | Parsimonious model choice   |\n",
    "\n",
    "\n",
    "\n",
    ">  **Goal**: Choose a model with good explanatory power while avoiding overfitting. Use these metrics in combination, not isolation."
   ]
  },
  {
   "cell_type": "markdown",
   "id": "0d3bfa5e-a523-47bc-af2d-10125dbf2f39",
   "metadata": {},
   "source": [
    "#### Model Selection"
   ]
  },
  {
   "cell_type": "code",
   "execution_count": 10,
   "id": "20077741-aafd-4f88-bd0a-b68d92615d7b",
   "metadata": {},
   "outputs": [
    {
     "name": "stdout",
     "output_type": "stream",
     "text": [
      "Model Comparison:\n",
      "\n",
      "     Model  Adj R2      AIC      BIC\n",
      "3  Model 4  0.9441  1833.96  1846.98\n",
      "4  Model 5  0.9435  1835.83  1851.46\n",
      "0  Model 1  0.1487  2103.31  2108.52\n",
      "1  Model 2  0.1443  2104.79  2112.61\n",
      "2  Model 3  0.1434  2105.87  2116.29\n"
     ]
    }
   ],
   "source": [
    "import numpy as np\n",
    "import pandas as pd\n",
    "import statsmodels.api as sm\n",
    "import matplotlib.pyplot as plt\n",
    "\n",
    "# Set seed for reproducibility\n",
    "np.random.seed(42)\n",
    "\n",
    "# Simulate data\n",
    "n = 100\n",
    "income = np.random.normal(50000, 8000, n)\n",
    "interest_rate = np.random.uniform(0.02, 0.08, n)\n",
    "inflation = np.random.uniform(0.01, 0.06, n)\n",
    "wealth = np.random.normal(150000, 30000, n)\n",
    "age = np.random.randint(25, 65, n)\n",
    "\n",
    "# Generate consumption with some true DGP\n",
    "error = np.random.normal(0, 2000, n)\n",
    "consumption = 5000 + 0.6 * income - 10000 * interest_rate - 3000 * inflation + 0.3 * wealth + error\n",
    "\n",
    "# Create DataFrame\n",
    "df = pd.DataFrame({\n",
    "    'consumption': consumption,\n",
    "    'income': income,\n",
    "    'interest_rate': interest_rate,\n",
    "    'inflation': inflation,\n",
    "    'wealth': wealth,\n",
    "    'age': age\n",
    "})\n",
    "\n",
    "# Define 5 models\n",
    "models = {\n",
    "    \"Model 1\": ['income'],\n",
    "    \"Model 2\": ['income', 'interest_rate'],\n",
    "    \"Model 3\": ['income', 'interest_rate', 'inflation'],\n",
    "    \"Model 4\": ['income', 'interest_rate', 'inflation', 'wealth'],\n",
    "    \"Model 5\": ['income', 'interest_rate', 'inflation', 'wealth', 'age']\n",
    "}\n",
    "\n",
    "# Fit models and compare\n",
    "results = []\n",
    "\n",
    "for name, predictors in models.items():\n",
    "    X = df[predictors]\n",
    "    X = sm.add_constant(X)\n",
    "    y = df['consumption']\n",
    "    model = sm.OLS(y, X).fit()\n",
    "    \n",
    "    adj_r2 = model.rsquared_adj\n",
    "    aic = model.aic\n",
    "    bic = model.bic\n",
    "    \n",
    "    results.append({\n",
    "        \"Model\": name,\n",
    "        \"Adj R2\": round(adj_r2, 4),\n",
    "        \"AIC\": round(aic, 2),\n",
    "        \"BIC\": round(bic, 2)\n",
    "    })\n",
    "\n",
    "# Convert to DataFrame\n",
    "results_df = pd.DataFrame(results)\n",
    "\n",
    "# Display comparison\n",
    "print(\"Model Comparison:\\n\")\n",
    "print(results_df.sort_values(by=\"Adj R2\", ascending=False))"
   ]
  },
  {
   "cell_type": "markdown",
   "id": "7ed5c4c1-94c4-4485-9799-e7f6a8934393",
   "metadata": {},
   "source": [
    "Interpretation\n",
    "\n",
    "Adjusted $R^2$ slightly decreases as we add more variables, which suggests the added predictors aren't improving the model's explanatory power significantly.\n",
    "\n",
    "$AIC$ and $BIC$ are lowest for Model 1, indicating it is the most parsimonious model with the best balance of fit and simplicity."
   ]
  },
  {
   "cell_type": "code",
   "execution_count": 11,
   "id": "eaf7bbad-e6e8-496d-8e96-2ed4d72f14a7",
   "metadata": {},
   "outputs": [
    {
     "name": "stderr",
     "output_type": "stream",
     "text": [
      "[NbConvertApp] Converting notebook Multiple_Regression_Analysis.ipynb to latex\n",
      "[NbConvertApp] Support files will be in Multiple_Regression_Analysis_files\\\n",
      "[NbConvertApp] Making directory Multiple_Regression_Analysis_files\n",
      "[NbConvertApp] Writing 71525 bytes to Multiple_Regression_Analysis.tex\n"
     ]
    }
   ],
   "source": [
    "!jupyter nbconvert Multiple_Regression_Analysis.ipynb --to latex"
   ]
  },
  {
   "cell_type": "code",
   "execution_count": 12,
   "id": "d0fdb629-466c-4461-bf7f-d1997ee93c75",
   "metadata": {},
   "outputs": [],
   "source": [
    "!xelatex Multiple_Regression_Analysis.tex -quiet"
   ]
  },
  {
   "cell_type": "code",
   "execution_count": null,
   "id": "93459ca4-cf79-4936-bb4e-dfd4122b47fc",
   "metadata": {},
   "outputs": [],
   "source": []
  }
 ],
 "metadata": {
  "kernelspec": {
   "display_name": "Python 3 (ipykernel)",
   "language": "python",
   "name": "python3"
  },
  "language_info": {
   "codemirror_mode": {
    "name": "ipython",
    "version": 3
   },
   "file_extension": ".py",
   "mimetype": "text/x-python",
   "name": "python",
   "nbconvert_exporter": "python",
   "pygments_lexer": "ipython3",
   "version": "3.13.1"
  }
 },
 "nbformat": 4,
 "nbformat_minor": 5
}
